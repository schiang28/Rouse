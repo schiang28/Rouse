{
 "cells": [
  {
   "cell_type": "code",
   "execution_count": 6,
   "id": "325d5230",
   "metadata": {},
   "outputs": [],
   "source": [
    "import numpy as np\n",
    "import pandas as pd\n",
    "import matplotlib.pyplot as plt\n",
    "import seaborn as sns\n",
    "from sklearn.model_selection import train_test_split\n",
    "from sklearn.linear_model import LogisticRegression\n",
    "import scikitplot as skplt\n",
    "from sklearn.model_selection import cross_val_score\n",
    "from sklearn.datasets import make_blobs\n",
    "from sklearn.model_selection import RepeatedStratifiedKFold\n",
    "from sklearn.model_selection import GridSearchCV\n",
    "from sklearn import metrics"
   ]
  },
  {
   "cell_type": "code",
   "execution_count": 7,
   "id": "38646b70",
   "metadata": {},
   "outputs": [
    {
     "data": {
      "text/html": [
       "<div>\n",
       "<style scoped>\n",
       "    .dataframe tbody tr th:only-of-type {\n",
       "        vertical-align: middle;\n",
       "    }\n",
       "\n",
       "    .dataframe tbody tr th {\n",
       "        vertical-align: top;\n",
       "    }\n",
       "\n",
       "    .dataframe thead th {\n",
       "        text-align: right;\n",
       "    }\n",
       "</style>\n",
       "<table border=\"1\" class=\"dataframe\">\n",
       "  <thead>\n",
       "    <tr style=\"text-align: right;\">\n",
       "      <th></th>\n",
       "      <th>SP</th>\n",
       "      <th>RP</th>\n",
       "      <th>SRP</th>\n",
       "      <th>LRP</th>\n",
       "      <th>FHP</th>\n",
       "      <th>BHP</th>\n",
       "      <th>RANK</th>\n",
       "      <th>RANKDIFF</th>\n",
       "      <th>SA</th>\n",
       "      <th>SRA</th>\n",
       "      <th>FHA</th>\n",
       "      <th>BALANCE</th>\n",
       "      <th>WON</th>\n",
       "    </tr>\n",
       "  </thead>\n",
       "  <tbody>\n",
       "    <tr>\n",
       "      <th>0</th>\n",
       "      <td>0.600</td>\n",
       "      <td>0.400</td>\n",
       "      <td>0.244</td>\n",
       "      <td>0.756</td>\n",
       "      <td>0.511</td>\n",
       "      <td>0.489</td>\n",
       "      <td>1</td>\n",
       "      <td>-0.062078</td>\n",
       "      <td>0.200</td>\n",
       "      <td>-0.512</td>\n",
       "      <td>0.022</td>\n",
       "      <td>0.353155</td>\n",
       "      <td>1.0</td>\n",
       "    </tr>\n",
       "    <tr>\n",
       "      <th>1</th>\n",
       "      <td>0.666</td>\n",
       "      <td>0.334</td>\n",
       "      <td>0.194</td>\n",
       "      <td>0.806</td>\n",
       "      <td>0.171</td>\n",
       "      <td>0.829</td>\n",
       "      <td>12</td>\n",
       "      <td>0.062078</td>\n",
       "      <td>0.332</td>\n",
       "      <td>-0.612</td>\n",
       "      <td>-0.658</td>\n",
       "      <td>0.879854</td>\n",
       "      <td>-1.0</td>\n",
       "    </tr>\n",
       "    <tr>\n",
       "      <th>2</th>\n",
       "      <td>0.522</td>\n",
       "      <td>0.478</td>\n",
       "      <td>0.295</td>\n",
       "      <td>0.705</td>\n",
       "      <td>0.720</td>\n",
       "      <td>0.280</td>\n",
       "      <td>3</td>\n",
       "      <td>-0.039504</td>\n",
       "      <td>0.044</td>\n",
       "      <td>-0.410</td>\n",
       "      <td>0.440</td>\n",
       "      <td>0.450243</td>\n",
       "      <td>1.0</td>\n",
       "    </tr>\n",
       "    <tr>\n",
       "      <th>3</th>\n",
       "      <td>0.558</td>\n",
       "      <td>0.442</td>\n",
       "      <td>0.205</td>\n",
       "      <td>0.795</td>\n",
       "      <td>0.617</td>\n",
       "      <td>0.383</td>\n",
       "      <td>10</td>\n",
       "      <td>0.039504</td>\n",
       "      <td>0.116</td>\n",
       "      <td>-0.590</td>\n",
       "      <td>0.234</td>\n",
       "      <td>0.478155</td>\n",
       "      <td>-1.0</td>\n",
       "    </tr>\n",
       "    <tr>\n",
       "      <th>4</th>\n",
       "      <td>0.561</td>\n",
       "      <td>0.439</td>\n",
       "      <td>0.157</td>\n",
       "      <td>0.843</td>\n",
       "      <td>0.578</td>\n",
       "      <td>0.422</td>\n",
       "      <td>3</td>\n",
       "      <td>0.011287</td>\n",
       "      <td>0.122</td>\n",
       "      <td>-0.686</td>\n",
       "      <td>0.156</td>\n",
       "      <td>0.492718</td>\n",
       "      <td>1.0</td>\n",
       "    </tr>\n",
       "    <tr>\n",
       "      <th>...</th>\n",
       "      <td>...</td>\n",
       "      <td>...</td>\n",
       "      <td>...</td>\n",
       "      <td>...</td>\n",
       "      <td>...</td>\n",
       "      <td>...</td>\n",
       "      <td>...</td>\n",
       "      <td>...</td>\n",
       "      <td>...</td>\n",
       "      <td>...</td>\n",
       "      <td>...</td>\n",
       "      <td>...</td>\n",
       "      <td>...</td>\n",
       "    </tr>\n",
       "    <tr>\n",
       "      <th>353</th>\n",
       "      <td>0.552</td>\n",
       "      <td>0.448</td>\n",
       "      <td>0.421</td>\n",
       "      <td>0.579</td>\n",
       "      <td>0.702</td>\n",
       "      <td>0.298</td>\n",
       "      <td>368</td>\n",
       "      <td>2.020364</td>\n",
       "      <td>0.104</td>\n",
       "      <td>-0.158</td>\n",
       "      <td>0.404</td>\n",
       "      <td>0.311893</td>\n",
       "      <td>-1.0</td>\n",
       "    </tr>\n",
       "    <tr>\n",
       "      <th>354</th>\n",
       "      <td>0.555</td>\n",
       "      <td>0.445</td>\n",
       "      <td>0.361</td>\n",
       "      <td>0.639</td>\n",
       "      <td>0.638</td>\n",
       "      <td>0.362</td>\n",
       "      <td>28</td>\n",
       "      <td>-0.152374</td>\n",
       "      <td>0.110</td>\n",
       "      <td>-0.278</td>\n",
       "      <td>0.276</td>\n",
       "      <td>0.310680</td>\n",
       "      <td>-1.0</td>\n",
       "    </tr>\n",
       "    <tr>\n",
       "      <th>355</th>\n",
       "      <td>0.525</td>\n",
       "      <td>0.475</td>\n",
       "      <td>0.275</td>\n",
       "      <td>0.725</td>\n",
       "      <td>0.615</td>\n",
       "      <td>0.385</td>\n",
       "      <td>55</td>\n",
       "      <td>0.152374</td>\n",
       "      <td>0.050</td>\n",
       "      <td>-0.450</td>\n",
       "      <td>0.230</td>\n",
       "      <td>0.350728</td>\n",
       "      <td>1.0</td>\n",
       "    </tr>\n",
       "    <tr>\n",
       "      <th>356</th>\n",
       "      <td>0.512</td>\n",
       "      <td>0.488</td>\n",
       "      <td>0.179</td>\n",
       "      <td>0.821</td>\n",
       "      <td>0.666</td>\n",
       "      <td>0.334</td>\n",
       "      <td>10</td>\n",
       "      <td>-0.744939</td>\n",
       "      <td>0.024</td>\n",
       "      <td>-0.642</td>\n",
       "      <td>0.332</td>\n",
       "      <td>0.513350</td>\n",
       "      <td>1.0</td>\n",
       "    </tr>\n",
       "    <tr>\n",
       "      <th>357</th>\n",
       "      <td>0.461</td>\n",
       "      <td>0.539</td>\n",
       "      <td>0.269</td>\n",
       "      <td>0.731</td>\n",
       "      <td>0.680</td>\n",
       "      <td>0.320</td>\n",
       "      <td>142</td>\n",
       "      <td>0.744939</td>\n",
       "      <td>-0.078</td>\n",
       "      <td>-0.462</td>\n",
       "      <td>0.360</td>\n",
       "      <td>0.453883</td>\n",
       "      <td>-1.0</td>\n",
       "    </tr>\n",
       "  </tbody>\n",
       "</table>\n",
       "<p>358 rows × 13 columns</p>\n",
       "</div>"
      ],
      "text/plain": [
       "        SP     RP    SRP    LRP    FHP    BHP  RANK  RANKDIFF     SA    SRA  \\\n",
       "0    0.600  0.400  0.244  0.756  0.511  0.489     1 -0.062078  0.200 -0.512   \n",
       "1    0.666  0.334  0.194  0.806  0.171  0.829    12  0.062078  0.332 -0.612   \n",
       "2    0.522  0.478  0.295  0.705  0.720  0.280     3 -0.039504  0.044 -0.410   \n",
       "3    0.558  0.442  0.205  0.795  0.617  0.383    10  0.039504  0.116 -0.590   \n",
       "4    0.561  0.439  0.157  0.843  0.578  0.422     3  0.011287  0.122 -0.686   \n",
       "..     ...    ...    ...    ...    ...    ...   ...       ...    ...    ...   \n",
       "353  0.552  0.448  0.421  0.579  0.702  0.298   368  2.020364  0.104 -0.158   \n",
       "354  0.555  0.445  0.361  0.639  0.638  0.362    28 -0.152374  0.110 -0.278   \n",
       "355  0.525  0.475  0.275  0.725  0.615  0.385    55  0.152374  0.050 -0.450   \n",
       "356  0.512  0.488  0.179  0.821  0.666  0.334    10 -0.744939  0.024 -0.642   \n",
       "357  0.461  0.539  0.269  0.731  0.680  0.320   142  0.744939 -0.078 -0.462   \n",
       "\n",
       "       FHA   BALANCE  WON  \n",
       "0    0.022  0.353155  1.0  \n",
       "1   -0.658  0.879854 -1.0  \n",
       "2    0.440  0.450243  1.0  \n",
       "3    0.234  0.478155 -1.0  \n",
       "4    0.156  0.492718  1.0  \n",
       "..     ...       ...  ...  \n",
       "353  0.404  0.311893 -1.0  \n",
       "354  0.276  0.310680 -1.0  \n",
       "355  0.230  0.350728  1.0  \n",
       "356  0.332  0.513350  1.0  \n",
       "357  0.360  0.453883 -1.0  \n",
       "\n",
       "[358 rows x 13 columns]"
      ]
     },
     "execution_count": 7,
     "metadata": {},
     "output_type": "execute_result"
    }
   ],
   "source": [
    "data = pd.read_csv('data_scaled.csv')\n",
    "data"
   ]
  },
  {
   "cell_type": "code",
   "execution_count": 8,
   "id": "ce953ef2",
   "metadata": {},
   "outputs": [],
   "source": [
    "columns = ['SP', 'RP', 'SRP', 'LRP', 'FHP', 'BHP', 'RANKDIFF', 'SA', 'SRA', 'FHA', 'BALANCE']\n",
    "X = data[columns]\n",
    "y = data.WON"
   ]
  },
  {
   "cell_type": "code",
   "execution_count": 9,
   "id": "d1b0ebeb",
   "metadata": {},
   "outputs": [],
   "source": [
    "solvers = ['newton-cg', 'lbfgs', 'liblinear']\n",
    "penalty = ['l2']\n",
    "c_values = [0.05, 0.1, 0.2,0.3, 0.5, 0.7,1]\n",
    "#c_values = np.linspace(0.5,0.8,10)\n",
    "param_grid = dict(solver=solvers,penalty=penalty,C=c_values)\n",
    "\n",
    "model = LogisticRegression(random_state=1)\n",
    "# Instantiate the grid search model\n",
    "grid_search = GridSearchCV(estimator = model, param_grid = param_grid, \n",
    "                          cv = 5, n_jobs = -1, verbose = 2)"
   ]
  },
  {
   "cell_type": "code",
   "execution_count": 10,
   "id": "8427bce1",
   "metadata": {},
   "outputs": [
    {
     "name": "stdout",
     "output_type": "stream",
     "text": [
      "Fitting 5 folds for each of 21 candidates, totalling 105 fits\n",
      "Best: 0.698894 using {'C': 1, 'penalty': 'l2', 'solver': 'liblinear'}\n",
      "0.695625 (0.037897) with: {'C': 0.05, 'penalty': 'l2', 'solver': 'newton-cg'}\n",
      "0.695625 (0.037897) with: {'C': 0.05, 'penalty': 'l2', 'solver': 'lbfgs'}\n",
      "0.692596 (0.044138) with: {'C': 0.05, 'penalty': 'l2', 'solver': 'liblinear'}\n",
      "0.689375 (0.043397) with: {'C': 0.1, 'penalty': 'l2', 'solver': 'newton-cg'}\n",
      "0.689375 (0.043397) with: {'C': 0.1, 'penalty': 'l2', 'solver': 'lbfgs'}\n",
      "0.689471 (0.040354) with: {'C': 0.1, 'penalty': 'l2', 'solver': 'liblinear'}\n",
      "0.683221 (0.054491) with: {'C': 0.2, 'penalty': 'l2', 'solver': 'newton-cg'}\n",
      "0.683221 (0.054491) with: {'C': 0.2, 'penalty': 'l2', 'solver': 'lbfgs'}\n",
      "0.683221 (0.054491) with: {'C': 0.2, 'penalty': 'l2', 'solver': 'liblinear'}\n",
      "0.683221 (0.056255) with: {'C': 0.3, 'penalty': 'l2', 'solver': 'newton-cg'}\n",
      "0.683221 (0.056255) with: {'C': 0.3, 'penalty': 'l2', 'solver': 'lbfgs'}\n",
      "0.683221 (0.056255) with: {'C': 0.3, 'penalty': 'l2', 'solver': 'liblinear'}\n",
      "0.686442 (0.048951) with: {'C': 0.5, 'penalty': 'l2', 'solver': 'newton-cg'}\n",
      "0.686442 (0.048951) with: {'C': 0.5, 'penalty': 'l2', 'solver': 'lbfgs'}\n",
      "0.689567 (0.045291) with: {'C': 0.5, 'penalty': 'l2', 'solver': 'liblinear'}\n",
      "0.695817 (0.051556) with: {'C': 0.7, 'penalty': 'l2', 'solver': 'newton-cg'}\n",
      "0.695817 (0.051556) with: {'C': 0.7, 'penalty': 'l2', 'solver': 'lbfgs'}\n",
      "0.695817 (0.051556) with: {'C': 0.7, 'penalty': 'l2', 'solver': 'liblinear'}\n",
      "0.695865 (0.052218) with: {'C': 1, 'penalty': 'l2', 'solver': 'newton-cg'}\n",
      "0.695865 (0.052218) with: {'C': 1, 'penalty': 'l2', 'solver': 'lbfgs'}\n",
      "0.698894 (0.052621) with: {'C': 1, 'penalty': 'l2', 'solver': 'liblinear'}\n",
      "LogisticRegression(C=1, random_state=1, solver='liblinear') \n",
      "\n",
      "Validation Set\n",
      "Accuracy Scores 5F CV\n",
      "[0.72307692 0.63076923 0.65625    0.78125    0.703125  ]\n",
      "mean: 0.6988942307692307 std: 0.05262075785091597\n",
      "\n",
      "F1 Scores 5F CV\n",
      "[0.74285714 0.625      0.67647059 0.77419355 0.70769231]\n",
      "mean: 0.7052427174343683 std: 0.05184938129098381\n",
      "\n",
      "Test Set\n",
      "Accuracy: 0.7222222222222222\n",
      "F1 score: 0.7058823529411765\n"
     ]
    },
    {
     "data": {
      "image/png": "[encoded data removed]",
      "text/plain": [
       "<Figure size 432x288 with 1 Axes>"
      ]
     },
     "metadata": {
      "needs_background": "light"
     },
     "output_type": "display_data"
    }
   ],
   "source": [
    "X_trainval, X_test, y_trainval, y_test = train_test_split(X, y, train_size=0.9, random_state=3)\n",
    "grid_result = grid_search.fit(X_trainval, y_trainval)\n",
    "# summarize results\n",
    "print(\"Best: %f using %s\" % (grid_result.best_score_, grid_result.best_params_))\n",
    "means = grid_result.cv_results_['mean_test_score']\n",
    "stds = grid_result.cv_results_['std_test_score']\n",
    "params = grid_result.cv_results_['params']\n",
    "for mean, stdev, param in zip(means, stds, params):\n",
    "    print(\"%f (%f) with: %r\" % (mean, stdev, param))\n",
    "\n",
    "print(grid_result.best_estimator_,\"\\n\")\n",
    "print(\"Validation Set\")\n",
    "scores1 = cross_val_score(grid_result.best_estimator_, X_trainval, y_trainval, cv=5, scoring='accuracy')\n",
    "print(\"Accuracy Scores 5F CV\")\n",
    "print(scores1)\n",
    "scores1 = pd.Series(scores1)\n",
    "print(\"mean:\",scores1.mean(), \"std:\", np.std(scores1))\n",
    "print(\"\")\n",
    "print(\"F1 Scores 5F CV\")\n",
    "scores2 = cross_val_score(grid_result.best_estimator_, X_trainval, y_trainval, cv=5, scoring='f1')\n",
    "print(scores2)\n",
    "scores1 = pd.Series(scores2)\n",
    "print(\"mean:\",scores2.mean(), \"std:\", np.std(scores2))\n",
    "\n",
    "print(\"\")\n",
    "print(\"Test Set\")\n",
    "grid_result.best_estimator_.fit(X_trainval, y_trainval)\n",
    "y_pred = grid_result.best_estimator_.predict(X_test)\n",
    "print(\"Accuracy:\",metrics.accuracy_score(y_test, y_pred))\n",
    "print(\"F1 score:\", metrics.f1_score(y_test, y_pred))\n",
    "\n",
    "skplt.estimators.plot_learning_curve(grid_result.best_estimator_, X_trainval, y_trainval,\n",
    "                                     cv=5, random_state=1, scoring=\"f1\",\n",
    "                                     n_jobs=-1, figsize=(6,4), title_fontsize=\"large\", text_fontsize=\"large\", title=None);\n",
    "plt.xlabel(\"Training samples\")\n",
    "plt.ylabel(\"F1 Score\")\n",
    "plt.savefig('LR TVT LC F1', dpi=300)"
   ]
  },
  {
   "cell_type": "code",
   "execution_count": 5,
   "id": "c039b9ab",
   "metadata": {},
   "outputs": [
    {
     "data": {
      "text/plain": [
       "(array([1, 2, 3]), array([4, 5, 6]))"
      ]
     },
     "execution_count": 5,
     "metadata": {},
     "output_type": "execute_result"
    }
   ],
   "source": [
    "lines[0].get_data()"
   ]
  },
  {
   "cell_type": "code",
   "execution_count": 14,
   "id": "1caed4e0",
   "metadata": {},
   "outputs": [
    {
     "data": {
      "image/png": "[encoded data removed]",
      "text/plain": [
       "<Figure size 432x288 with 1 Axes>"
      ]
     },
     "metadata": {
      "needs_background": "light"
     },
     "output_type": "display_data"
    }
   ],
   "source": [
    "skplt.estimators.plot_learning_curve(grid_result.best_estimator_, X_trainval, y_trainval,\n",
    "                                     cv=5, random_state=1, scoring=\"f1\",\n",
    "                                     n_jobs=-1, figsize=(6,4), title_fontsize=\"large\", text_fontsize=\"large\", title=None);\n",
    "plt.xlabel(\"Training samples\")\n",
    "plt.ylabel(\"F1 Score\")\n",
    "ax = plt.gca()"
   ]
  },
  {
   "cell_type": "code",
   "execution_count": 15,
   "id": "b2c457eb",
   "metadata": {},
   "outputs": [],
   "source": [
    "line = ax.lines[0]"
   ]
  },
  {
   "cell_type": "code",
   "execution_count": 16,
   "id": "96367427",
   "metadata": {},
   "outputs": [
    {
     "data": {
      "text/plain": [
       "(array([ 25,  83, 141, 199, 257]),\n",
       " array([0.58181818, 0.74761016, 0.68191141, 0.6893483 , 0.70219048]))"
      ]
     },
     "execution_count": 16,
     "metadata": {},
     "output_type": "execute_result"
    }
   ],
   "source": [
    "line.get_data()"
   ]
  },
  {
   "cell_type": "code",
   "execution_count": 17,
   "id": "53d4d61b",
   "metadata": {},
   "outputs": [
    {
     "data": {
      "text/plain": [
       "(array([ 25,  83, 141, 199, 257]),\n",
       " array([0.52896066, 0.68169277, 0.68636096, 0.67693856, 0.70524272]))"
      ]
     },
     "execution_count": 17,
     "metadata": {},
     "output_type": "execute_result"
    }
   ],
   "source": [
    "line = ax.lines[1]\n",
    "line.get_data()"
   ]
  },
  {
   "cell_type": "code",
   "execution_count": null,
   "id": "e9299c83",
   "metadata": {},
   "outputs": [],
   "source": []
  }
 ],
 "metadata": {
  "kernelspec": {
   "display_name": "Python 3",
   "language": "python",
   "name": "python3"
  },
  "language_info": {
   "codemirror_mode": {
    "name": "ipython",
    "version": 3
   },
   "file_extension": ".py",
   "mimetype": "text/x-python",
   "name": "python",
   "nbconvert_exporter": "python",
   "pygments_lexer": "ipython3",
   "version": "3.8.8"
  }
 },
 "nbformat": 4,
 "nbformat_minor": 5
}
