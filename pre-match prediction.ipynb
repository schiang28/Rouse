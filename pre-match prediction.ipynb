{
 "cells": [
  {
   "cell_type": "code",
   "execution_count": 180,
   "id": "7b531f70",
   "metadata": {},
   "outputs": [],
   "source": [
    "import numpy as np\n",
    "import pandas as pd\n",
    "import matplotlib.pyplot as plt\n",
    "import seaborn as sns\n",
    "from sklearn.model_selection import train_test_split\n",
    "from sklearn.linear_model import LogisticRegression\n",
    "import scikitplot as skplt\n",
    "from sklearn.model_selection import cross_val_score\n",
    "from sklearn.datasets import make_blobs\n",
    "from sklearn.model_selection import RepeatedStratifiedKFold\n",
    "from sklearn.model_selection import GridSearchCV\n",
    "from sklearn import metrics\n",
    "import math\n",
    "from sklearn.ensemble import RandomForestClassifier\n",
    "from sklearn.svm import SVC\n",
    "from sklearn.neural_network import MLPClassifier\n"
   ]
  },
  {
   "cell_type": "code",
   "execution_count": 239,
   "id": "b1c53377",
   "metadata": {},
   "outputs": [],
   "source": [
    "data = pd.read_csv('playerid.csv')\n",
    "averages = pd.read_csv('player_averages.csv')\n",
    "columns = ['SP', 'RP', 'SRP', 'LRP', 'FHP', 'BHP', 'RANKDIFF', 'SA', 'SRA', 'FHA', 'BALANCE', 'Player ID']\n",
    "XID = data[columns]\n",
    "X = XID.drop(columns='Player ID')\n",
    "y = data.WON\n",
    "X_trainval, X_test, y_trainval, y_test = train_test_split(X, y, train_size=0.9, random_state=13)\n",
    "X_trainval1, X_test1, y_trainval1, y_test1 = train_test_split(XID, y, train_size=0.9, random_state=13)"
   ]
  },
  {
   "cell_type": "code",
   "execution_count": 240,
   "id": "44065beb",
   "metadata": {},
   "outputs": [],
   "source": [
    "ids = X_test1['Player ID'].values.tolist()\n",
    "ls = []\n",
    "\n",
    "for i in ids:\n",
    "    a = (averages.loc[averages['Player ID'] == i]).values.tolist()[0]\n",
    "    ls.append(a)\n",
    "\n",
    "new_test = pd.DataFrame(np.array(ls),columns=['SP', 'RP', 'SRP', 'LRP', 'FHP', 'BHP', 'RANK', 'RANKDIFF', 'SA', 'SRA', 'FHA', 'BALANCE', 'Player ID'])\n",
    "new_test = new_test.drop(columns='Player ID')\n",
    "new_test = new_test.drop(columns='RANK')"
   ]
  },
  {
   "cell_type": "code",
   "execution_count": 243,
   "id": "655be4a1",
   "metadata": {},
   "outputs": [
    {
     "name": "stdout",
     "output_type": "stream",
     "text": [
      "Validation Set\n",
      "Accuracy Scores 5F CV\n",
      "[0.69230769 0.64615385 0.625      0.6875     0.546875  ]\n",
      "mean: 0.6395673076923077 ste: 0.02360215584125801\n",
      "\n",
      "F1 Scores 5F CV\n",
      "[0.67647059 0.61016949 0.63333333 0.65517241 0.7037037 ]\n",
      "mean: 0.6557699061181717 ste: 0.014573018626932815\n",
      "\n",
      "Test Set\n",
      "Accuracy: 0.6666666666666666\n",
      "F1 score: 0.7142857142857143\n"
     ]
    }
   ],
   "source": [
    "model = MLPClassifier(activation='relu', hidden_layer_sizes=2, learning_rate='constant',max_iter=500, solver='lbfgs')\n",
    "\n",
    "print(\"Validation Set\")\n",
    "scores1 = cross_val_score(model, X_trainval, y_trainval, cv=5, scoring='accuracy')\n",
    "print(\"Accuracy Scores 5F CV\")\n",
    "print(scores1)\n",
    "scores1 = pd.Series(scores1)\n",
    "print(\"mean:\",scores1.mean(), \"ste:\", (np.std(scores1))/math.sqrt(5))\n",
    "print(\"\")\n",
    "print(\"F1 Scores 5F CV\")\n",
    "scores2 = cross_val_score(model, X_trainval, y_trainval, cv=5, scoring='f1')\n",
    "print(scores2)\n",
    "scores1 = pd.Series(scores2)\n",
    "print(\"mean:\",scores2.mean(), \"ste:\", (np.std(scores1))/math.sqrt(5))\n",
    "\n",
    "print(\"\")\n",
    "print(\"Test Set\")\n",
    "model.fit(X_trainval, y_trainval)\n",
    "y_pred = model.predict(new_test)\n",
    "print(\"Accuracy:\",metrics.accuracy_score(y_test, y_pred))\n",
    "print(\"F1 score:\", metrics.f1_score(y_test, y_pred))"
   ]
  },
  {
   "cell_type": "code",
   "execution_count": null,
   "id": "1cbb09d5",
   "metadata": {},
   "outputs": [],
   "source": []
  }
 ],
 "metadata": {
  "kernelspec": {
   "display_name": "Python 3",
   "language": "python",
   "name": "python3"
  },
  "language_info": {
   "codemirror_mode": {
    "name": "ipython",
    "version": 3
   },
   "file_extension": ".py",
   "mimetype": "text/x-python",
   "name": "python",
   "nbconvert_exporter": "python",
   "pygments_lexer": "ipython3",
   "version": "3.8.8"
  }
 },
 "nbformat": 4,
 "nbformat_minor": 5
}
