{
 "cells": [
  {
   "cell_type": "code",
   "execution_count": 1,
   "id": "ad33e3cd",
   "metadata": {},
   "outputs": [],
   "source": [
    "from sklearn.datasets import load_boston\n",
    "import pandas as pd\n",
    "import numpy as np\n",
    "import matplotlib\n",
    "import matplotlib.pyplot as plt\n",
    "import seaborn as sns\n",
    "import statsmodels.api as sm\n",
    "%matplotlib inline\n",
    "from sklearn.model_selection import train_test_split\n",
    "from sklearn.linear_model import LinearRegression\n",
    "from sklearn.feature_selection import RFE\n",
    "from sklearn.linear_model import RidgeCV, LassoCV, Ridge, Lasso"
   ]
  },
  {
   "cell_type": "code",
   "execution_count": 162,
   "id": "89021295",
   "metadata": {},
   "outputs": [],
   "source": [
    "data = pd.read_csv('testtable.csv')"
   ]
  },
  {
   "cell_type": "code",
   "execution_count": 163,
   "id": "210d8513",
   "metadata": {},
   "outputs": [
    {
     "data": {
      "text/html": [
       "<div>\n",
       "<style scoped>\n",
       "    .dataframe tbody tr th:only-of-type {\n",
       "        vertical-align: middle;\n",
       "    }\n",
       "\n",
       "    .dataframe tbody tr th {\n",
       "        vertical-align: top;\n",
       "    }\n",
       "\n",
       "    .dataframe thead th {\n",
       "        text-align: right;\n",
       "    }\n",
       "</style>\n",
       "<table border=\"1\" class=\"dataframe\">\n",
       "  <thead>\n",
       "    <tr style=\"text-align: right;\">\n",
       "      <th></th>\n",
       "      <th>Name</th>\n",
       "      <th>%pts won-serve</th>\n",
       "      <th>%pts won-receive</th>\n",
       "      <th>%pts won-shortrally</th>\n",
       "      <th>%pts won-longrally</th>\n",
       "      <th>%pts won-FH</th>\n",
       "      <th>%pts won-BH</th>\n",
       "      <th>rank</th>\n",
       "      <th>won</th>\n",
       "    </tr>\n",
       "  </thead>\n",
       "  <tbody>\n",
       "    <tr>\n",
       "      <th>0</th>\n",
       "      <td>Zhendong Fan</td>\n",
       "      <td>0.600</td>\n",
       "      <td>0.400</td>\n",
       "      <td>0.244</td>\n",
       "      <td>0.756</td>\n",
       "      <td>0.511</td>\n",
       "      <td>0.489</td>\n",
       "      <td>1</td>\n",
       "      <td>1</td>\n",
       "    </tr>\n",
       "    <tr>\n",
       "      <th>1</th>\n",
       "      <td>Ovtcharov Dimitrij</td>\n",
       "      <td>0.666</td>\n",
       "      <td>0.334</td>\n",
       "      <td>0.194</td>\n",
       "      <td>0.806</td>\n",
       "      <td>0.171</td>\n",
       "      <td>0.829</td>\n",
       "      <td>12</td>\n",
       "      <td>0</td>\n",
       "    </tr>\n",
       "    <tr>\n",
       "      <th>2</th>\n",
       "      <td>Long Ma</td>\n",
       "      <td>0.522</td>\n",
       "      <td>0.478</td>\n",
       "      <td>0.295</td>\n",
       "      <td>0.705</td>\n",
       "      <td>0.720</td>\n",
       "      <td>0.280</td>\n",
       "      <td>3</td>\n",
       "      <td>1</td>\n",
       "    </tr>\n",
       "    <tr>\n",
       "      <th>3</th>\n",
       "      <td>Boll Timo</td>\n",
       "      <td>0.558</td>\n",
       "      <td>0.442</td>\n",
       "      <td>0.205</td>\n",
       "      <td>0.795</td>\n",
       "      <td>0.617</td>\n",
       "      <td>0.383</td>\n",
       "      <td>10</td>\n",
       "      <td>0</td>\n",
       "    </tr>\n",
       "    <tr>\n",
       "      <th>4</th>\n",
       "      <td>Long Ma</td>\n",
       "      <td>0.561</td>\n",
       "      <td>0.439</td>\n",
       "      <td>0.157</td>\n",
       "      <td>0.843</td>\n",
       "      <td>0.578</td>\n",
       "      <td>0.422</td>\n",
       "      <td>3</td>\n",
       "      <td>1</td>\n",
       "    </tr>\n",
       "    <tr>\n",
       "      <th>...</th>\n",
       "      <td>...</td>\n",
       "      <td>...</td>\n",
       "      <td>...</td>\n",
       "      <td>...</td>\n",
       "      <td>...</td>\n",
       "      <td>...</td>\n",
       "      <td>...</td>\n",
       "      <td>...</td>\n",
       "      <td>...</td>\n",
       "    </tr>\n",
       "    <tr>\n",
       "      <th>353</th>\n",
       "      <td>BERTRAND IRVIN</td>\n",
       "      <td>0.552</td>\n",
       "      <td>0.448</td>\n",
       "      <td>0.421</td>\n",
       "      <td>0.579</td>\n",
       "      <td>0.702</td>\n",
       "      <td>0.298</td>\n",
       "      <td>368</td>\n",
       "      <td>0</td>\n",
       "    </tr>\n",
       "    <tr>\n",
       "      <th>354</th>\n",
       "      <td>KARLSSON KRISTIAN</td>\n",
       "      <td>0.555</td>\n",
       "      <td>0.445</td>\n",
       "      <td>0.361</td>\n",
       "      <td>0.639</td>\n",
       "      <td>0.638</td>\n",
       "      <td>0.362</td>\n",
       "      <td>28</td>\n",
       "      <td>0</td>\n",
       "    </tr>\n",
       "    <tr>\n",
       "      <th>355</th>\n",
       "      <td>IONESCU OVIDIU</td>\n",
       "      <td>0.525</td>\n",
       "      <td>0.475</td>\n",
       "      <td>0.275</td>\n",
       "      <td>0.725</td>\n",
       "      <td>0.615</td>\n",
       "      <td>0.385</td>\n",
       "      <td>55</td>\n",
       "      <td>1</td>\n",
       "    </tr>\n",
       "    <tr>\n",
       "      <th>356</th>\n",
       "      <td>BOLL TIMO</td>\n",
       "      <td>0.512</td>\n",
       "      <td>0.488</td>\n",
       "      <td>0.179</td>\n",
       "      <td>0.821</td>\n",
       "      <td>0.666</td>\n",
       "      <td>0.334</td>\n",
       "      <td>10</td>\n",
       "      <td>1</td>\n",
       "    </tr>\n",
       "    <tr>\n",
       "      <th>357</th>\n",
       "      <td>MENGEL STEFFEN</td>\n",
       "      <td>0.461</td>\n",
       "      <td>0.539</td>\n",
       "      <td>0.269</td>\n",
       "      <td>0.731</td>\n",
       "      <td>0.680</td>\n",
       "      <td>0.320</td>\n",
       "      <td>142</td>\n",
       "      <td>0</td>\n",
       "    </tr>\n",
       "  </tbody>\n",
       "</table>\n",
       "<p>358 rows × 9 columns</p>\n",
       "</div>"
      ],
      "text/plain": [
       "                   Name  %pts won-serve  %pts won-receive  \\\n",
       "0          Zhendong Fan           0.600             0.400   \n",
       "1    Ovtcharov Dimitrij           0.666             0.334   \n",
       "2               Long Ma           0.522             0.478   \n",
       "3             Boll Timo           0.558             0.442   \n",
       "4               Long Ma           0.561             0.439   \n",
       "..                  ...             ...               ...   \n",
       "353      BERTRAND IRVIN           0.552             0.448   \n",
       "354   KARLSSON KRISTIAN           0.555             0.445   \n",
       "355      IONESCU OVIDIU           0.525             0.475   \n",
       "356           BOLL TIMO           0.512             0.488   \n",
       "357      MENGEL STEFFEN           0.461             0.539   \n",
       "\n",
       "     %pts won-shortrally  %pts won-longrally  %pts won-FH  %pts won-BH  rank  \\\n",
       "0                  0.244               0.756        0.511        0.489     1   \n",
       "1                  0.194               0.806        0.171        0.829    12   \n",
       "2                  0.295               0.705        0.720        0.280     3   \n",
       "3                  0.205               0.795        0.617        0.383    10   \n",
       "4                  0.157               0.843        0.578        0.422     3   \n",
       "..                   ...                 ...          ...          ...   ...   \n",
       "353                0.421               0.579        0.702        0.298   368   \n",
       "354                0.361               0.639        0.638        0.362    28   \n",
       "355                0.275               0.725        0.615        0.385    55   \n",
       "356                0.179               0.821        0.666        0.334    10   \n",
       "357                0.269               0.731        0.680        0.320   142   \n",
       "\n",
       "     won  \n",
       "0      1  \n",
       "1      0  \n",
       "2      1  \n",
       "3      0  \n",
       "4      1  \n",
       "..   ...  \n",
       "353    0  \n",
       "354    0  \n",
       "355    1  \n",
       "356    1  \n",
       "357    0  \n",
       "\n",
       "[358 rows x 9 columns]"
      ]
     },
     "execution_count": 163,
     "metadata": {},
     "output_type": "execute_result"
    }
   ],
   "source": [
    "data"
   ]
  },
  {
   "cell_type": "code",
   "execution_count": 164,
   "id": "618a7b25",
   "metadata": {},
   "outputs": [],
   "source": [
    "rank = list(data['rank'])\n",
    "won = list(data['won'])\n",
    "rankdiff=[]\n",
    "\n",
    "for i in range(0, len(rank), 2):\n",
    "    diff = rank[i]-rank[i+1]\n",
    "    if rank[i] > 100 and rank[i+1] > 100:\n",
    "        rankdiff.append(0)\n",
    "        rankdiff.append(0)\n",
    "    else:\n",
    "        rankdiff.append(diff)\n",
    "        rankdiff.append(diff*-1)"
   ]
  },
  {
   "cell_type": "code",
   "execution_count": 165,
   "id": "5be60b56",
   "metadata": {},
   "outputs": [],
   "source": [
    "df = data.drop(columns =['rank'])"
   ]
  },
  {
   "cell_type": "code",
   "execution_count": 166,
   "id": "e8a9b432",
   "metadata": {},
   "outputs": [],
   "source": [
    "df['rank'] = rankdiff"
   ]
  },
  {
   "cell_type": "code",
   "execution_count": 167,
   "id": "cc81b8f0",
   "metadata": {},
   "outputs": [],
   "source": [
    "df = df.drop(columns = ['Name'])"
   ]
  },
  {
   "cell_type": "code",
   "execution_count": 168,
   "id": "17c94dfc",
   "metadata": {},
   "outputs": [
    {
     "data": {
      "text/html": [
       "<div>\n",
       "<style scoped>\n",
       "    .dataframe tbody tr th:only-of-type {\n",
       "        vertical-align: middle;\n",
       "    }\n",
       "\n",
       "    .dataframe tbody tr th {\n",
       "        vertical-align: top;\n",
       "    }\n",
       "\n",
       "    .dataframe thead th {\n",
       "        text-align: right;\n",
       "    }\n",
       "</style>\n",
       "<table border=\"1\" class=\"dataframe\">\n",
       "  <thead>\n",
       "    <tr style=\"text-align: right;\">\n",
       "      <th></th>\n",
       "      <th>%pts won-serve</th>\n",
       "      <th>%pts won-receive</th>\n",
       "      <th>%pts won-shortrally</th>\n",
       "      <th>%pts won-longrally</th>\n",
       "      <th>%pts won-FH</th>\n",
       "      <th>%pts won-BH</th>\n",
       "      <th>won</th>\n",
       "      <th>rank</th>\n",
       "    </tr>\n",
       "  </thead>\n",
       "  <tbody>\n",
       "    <tr>\n",
       "      <th>0</th>\n",
       "      <td>0.600</td>\n",
       "      <td>0.400</td>\n",
       "      <td>0.244</td>\n",
       "      <td>0.756</td>\n",
       "      <td>0.511</td>\n",
       "      <td>0.489</td>\n",
       "      <td>1</td>\n",
       "      <td>-11</td>\n",
       "    </tr>\n",
       "    <tr>\n",
       "      <th>1</th>\n",
       "      <td>0.666</td>\n",
       "      <td>0.334</td>\n",
       "      <td>0.194</td>\n",
       "      <td>0.806</td>\n",
       "      <td>0.171</td>\n",
       "      <td>0.829</td>\n",
       "      <td>0</td>\n",
       "      <td>11</td>\n",
       "    </tr>\n",
       "    <tr>\n",
       "      <th>2</th>\n",
       "      <td>0.522</td>\n",
       "      <td>0.478</td>\n",
       "      <td>0.295</td>\n",
       "      <td>0.705</td>\n",
       "      <td>0.720</td>\n",
       "      <td>0.280</td>\n",
       "      <td>1</td>\n",
       "      <td>-7</td>\n",
       "    </tr>\n",
       "    <tr>\n",
       "      <th>3</th>\n",
       "      <td>0.558</td>\n",
       "      <td>0.442</td>\n",
       "      <td>0.205</td>\n",
       "      <td>0.795</td>\n",
       "      <td>0.617</td>\n",
       "      <td>0.383</td>\n",
       "      <td>0</td>\n",
       "      <td>7</td>\n",
       "    </tr>\n",
       "    <tr>\n",
       "      <th>4</th>\n",
       "      <td>0.561</td>\n",
       "      <td>0.439</td>\n",
       "      <td>0.157</td>\n",
       "      <td>0.843</td>\n",
       "      <td>0.578</td>\n",
       "      <td>0.422</td>\n",
       "      <td>1</td>\n",
       "      <td>2</td>\n",
       "    </tr>\n",
       "    <tr>\n",
       "      <th>...</th>\n",
       "      <td>...</td>\n",
       "      <td>...</td>\n",
       "      <td>...</td>\n",
       "      <td>...</td>\n",
       "      <td>...</td>\n",
       "      <td>...</td>\n",
       "      <td>...</td>\n",
       "      <td>...</td>\n",
       "    </tr>\n",
       "    <tr>\n",
       "      <th>353</th>\n",
       "      <td>0.552</td>\n",
       "      <td>0.448</td>\n",
       "      <td>0.421</td>\n",
       "      <td>0.579</td>\n",
       "      <td>0.702</td>\n",
       "      <td>0.298</td>\n",
       "      <td>0</td>\n",
       "      <td>358</td>\n",
       "    </tr>\n",
       "    <tr>\n",
       "      <th>354</th>\n",
       "      <td>0.555</td>\n",
       "      <td>0.445</td>\n",
       "      <td>0.361</td>\n",
       "      <td>0.639</td>\n",
       "      <td>0.638</td>\n",
       "      <td>0.362</td>\n",
       "      <td>0</td>\n",
       "      <td>-27</td>\n",
       "    </tr>\n",
       "    <tr>\n",
       "      <th>355</th>\n",
       "      <td>0.525</td>\n",
       "      <td>0.475</td>\n",
       "      <td>0.275</td>\n",
       "      <td>0.725</td>\n",
       "      <td>0.615</td>\n",
       "      <td>0.385</td>\n",
       "      <td>1</td>\n",
       "      <td>27</td>\n",
       "    </tr>\n",
       "    <tr>\n",
       "      <th>356</th>\n",
       "      <td>0.512</td>\n",
       "      <td>0.488</td>\n",
       "      <td>0.179</td>\n",
       "      <td>0.821</td>\n",
       "      <td>0.666</td>\n",
       "      <td>0.334</td>\n",
       "      <td>1</td>\n",
       "      <td>-132</td>\n",
       "    </tr>\n",
       "    <tr>\n",
       "      <th>357</th>\n",
       "      <td>0.461</td>\n",
       "      <td>0.539</td>\n",
       "      <td>0.269</td>\n",
       "      <td>0.731</td>\n",
       "      <td>0.680</td>\n",
       "      <td>0.320</td>\n",
       "      <td>0</td>\n",
       "      <td>132</td>\n",
       "    </tr>\n",
       "  </tbody>\n",
       "</table>\n",
       "<p>358 rows × 8 columns</p>\n",
       "</div>"
      ],
      "text/plain": [
       "     %pts won-serve  %pts won-receive  %pts won-shortrally  \\\n",
       "0             0.600             0.400                0.244   \n",
       "1             0.666             0.334                0.194   \n",
       "2             0.522             0.478                0.295   \n",
       "3             0.558             0.442                0.205   \n",
       "4             0.561             0.439                0.157   \n",
       "..              ...               ...                  ...   \n",
       "353           0.552             0.448                0.421   \n",
       "354           0.555             0.445                0.361   \n",
       "355           0.525             0.475                0.275   \n",
       "356           0.512             0.488                0.179   \n",
       "357           0.461             0.539                0.269   \n",
       "\n",
       "     %pts won-longrally  %pts won-FH  %pts won-BH  won  rank  \n",
       "0                 0.756        0.511        0.489    1   -11  \n",
       "1                 0.806        0.171        0.829    0    11  \n",
       "2                 0.705        0.720        0.280    1    -7  \n",
       "3                 0.795        0.617        0.383    0     7  \n",
       "4                 0.843        0.578        0.422    1     2  \n",
       "..                  ...          ...          ...  ...   ...  \n",
       "353               0.579        0.702        0.298    0   358  \n",
       "354               0.639        0.638        0.362    0   -27  \n",
       "355               0.725        0.615        0.385    1    27  \n",
       "356               0.821        0.666        0.334    1  -132  \n",
       "357               0.731        0.680        0.320    0   132  \n",
       "\n",
       "[358 rows x 8 columns]"
      ]
     },
     "execution_count": 168,
     "metadata": {},
     "output_type": "execute_result"
    }
   ],
   "source": [
    "df"
   ]
  },
  {
   "cell_type": "code",
   "execution_count": 172,
   "id": "4989691a",
   "metadata": {},
   "outputs": [],
   "source": [
    "from sklearn.model_selection import train_test_split\n",
    "from sklearn.linear_model import LogisticRegression\n",
    "X_train, X_test, y_train, y_test = train_test_split(normalized_df[['rank', '%pts won-serve','%pts won-longrally','%pts won-FH']], df.won, train_size=0.9)"
   ]
  },
  {
   "cell_type": "code",
   "execution_count": 170,
   "id": "c3e651b6",
   "metadata": {},
   "outputs": [],
   "source": [
    "normalized_df=(df-df.min())/(df.max()-df.min())"
   ]
  },
  {
   "cell_type": "code",
   "execution_count": 171,
   "id": "82eecab2",
   "metadata": {},
   "outputs": [
    {
     "data": {
      "text/html": [
       "<div>\n",
       "<style scoped>\n",
       "    .dataframe tbody tr th:only-of-type {\n",
       "        vertical-align: middle;\n",
       "    }\n",
       "\n",
       "    .dataframe tbody tr th {\n",
       "        vertical-align: top;\n",
       "    }\n",
       "\n",
       "    .dataframe thead th {\n",
       "        text-align: right;\n",
       "    }\n",
       "</style>\n",
       "<table border=\"1\" class=\"dataframe\">\n",
       "  <thead>\n",
       "    <tr style=\"text-align: right;\">\n",
       "      <th></th>\n",
       "      <th>%pts won-serve</th>\n",
       "      <th>%pts won-receive</th>\n",
       "      <th>%pts won-shortrally</th>\n",
       "      <th>%pts won-longrally</th>\n",
       "      <th>%pts won-FH</th>\n",
       "      <th>%pts won-BH</th>\n",
       "      <th>won</th>\n",
       "      <th>rank</th>\n",
       "    </tr>\n",
       "  </thead>\n",
       "  <tbody>\n",
       "    <tr>\n",
       "      <th>0</th>\n",
       "      <td>0.452542</td>\n",
       "      <td>0.547458</td>\n",
       "      <td>0.271044</td>\n",
       "      <td>0.728956</td>\n",
       "      <td>0.498975</td>\n",
       "      <td>0.501025</td>\n",
       "      <td>1.0</td>\n",
       "      <td>0.492120</td>\n",
       "    </tr>\n",
       "    <tr>\n",
       "      <th>1</th>\n",
       "      <td>0.564407</td>\n",
       "      <td>0.435593</td>\n",
       "      <td>0.186869</td>\n",
       "      <td>0.813131</td>\n",
       "      <td>0.150615</td>\n",
       "      <td>0.849385</td>\n",
       "      <td>0.0</td>\n",
       "      <td>0.507880</td>\n",
       "    </tr>\n",
       "    <tr>\n",
       "      <th>2</th>\n",
       "      <td>0.320339</td>\n",
       "      <td>0.679661</td>\n",
       "      <td>0.356902</td>\n",
       "      <td>0.643098</td>\n",
       "      <td>0.713115</td>\n",
       "      <td>0.286885</td>\n",
       "      <td>1.0</td>\n",
       "      <td>0.494986</td>\n",
       "    </tr>\n",
       "    <tr>\n",
       "      <th>3</th>\n",
       "      <td>0.381356</td>\n",
       "      <td>0.618644</td>\n",
       "      <td>0.205387</td>\n",
       "      <td>0.794613</td>\n",
       "      <td>0.607582</td>\n",
       "      <td>0.392418</td>\n",
       "      <td>0.0</td>\n",
       "      <td>0.505014</td>\n",
       "    </tr>\n",
       "    <tr>\n",
       "      <th>4</th>\n",
       "      <td>0.386441</td>\n",
       "      <td>0.613559</td>\n",
       "      <td>0.124579</td>\n",
       "      <td>0.875421</td>\n",
       "      <td>0.567623</td>\n",
       "      <td>0.432377</td>\n",
       "      <td>1.0</td>\n",
       "      <td>0.501433</td>\n",
       "    </tr>\n",
       "    <tr>\n",
       "      <th>...</th>\n",
       "      <td>...</td>\n",
       "      <td>...</td>\n",
       "      <td>...</td>\n",
       "      <td>...</td>\n",
       "      <td>...</td>\n",
       "      <td>...</td>\n",
       "      <td>...</td>\n",
       "      <td>...</td>\n",
       "    </tr>\n",
       "    <tr>\n",
       "      <th>353</th>\n",
       "      <td>0.371186</td>\n",
       "      <td>0.628814</td>\n",
       "      <td>0.569024</td>\n",
       "      <td>0.430976</td>\n",
       "      <td>0.694672</td>\n",
       "      <td>0.305328</td>\n",
       "      <td>0.0</td>\n",
       "      <td>0.756447</td>\n",
       "    </tr>\n",
       "    <tr>\n",
       "      <th>354</th>\n",
       "      <td>0.376271</td>\n",
       "      <td>0.623729</td>\n",
       "      <td>0.468013</td>\n",
       "      <td>0.531987</td>\n",
       "      <td>0.629098</td>\n",
       "      <td>0.370902</td>\n",
       "      <td>0.0</td>\n",
       "      <td>0.480659</td>\n",
       "    </tr>\n",
       "    <tr>\n",
       "      <th>355</th>\n",
       "      <td>0.325424</td>\n",
       "      <td>0.674576</td>\n",
       "      <td>0.323232</td>\n",
       "      <td>0.676768</td>\n",
       "      <td>0.605533</td>\n",
       "      <td>0.394467</td>\n",
       "      <td>1.0</td>\n",
       "      <td>0.519341</td>\n",
       "    </tr>\n",
       "    <tr>\n",
       "      <th>356</th>\n",
       "      <td>0.303390</td>\n",
       "      <td>0.696610</td>\n",
       "      <td>0.161616</td>\n",
       "      <td>0.838384</td>\n",
       "      <td>0.657787</td>\n",
       "      <td>0.342213</td>\n",
       "      <td>1.0</td>\n",
       "      <td>0.405444</td>\n",
       "    </tr>\n",
       "    <tr>\n",
       "      <th>357</th>\n",
       "      <td>0.216949</td>\n",
       "      <td>0.783051</td>\n",
       "      <td>0.313131</td>\n",
       "      <td>0.686869</td>\n",
       "      <td>0.672131</td>\n",
       "      <td>0.327869</td>\n",
       "      <td>0.0</td>\n",
       "      <td>0.594556</td>\n",
       "    </tr>\n",
       "  </tbody>\n",
       "</table>\n",
       "<p>358 rows × 8 columns</p>\n",
       "</div>"
      ],
      "text/plain": [
       "     %pts won-serve  %pts won-receive  %pts won-shortrally  \\\n",
       "0          0.452542          0.547458             0.271044   \n",
       "1          0.564407          0.435593             0.186869   \n",
       "2          0.320339          0.679661             0.356902   \n",
       "3          0.381356          0.618644             0.205387   \n",
       "4          0.386441          0.613559             0.124579   \n",
       "..              ...               ...                  ...   \n",
       "353        0.371186          0.628814             0.569024   \n",
       "354        0.376271          0.623729             0.468013   \n",
       "355        0.325424          0.674576             0.323232   \n",
       "356        0.303390          0.696610             0.161616   \n",
       "357        0.216949          0.783051             0.313131   \n",
       "\n",
       "     %pts won-longrally  %pts won-FH  %pts won-BH  won      rank  \n",
       "0              0.728956     0.498975     0.501025  1.0  0.492120  \n",
       "1              0.813131     0.150615     0.849385  0.0  0.507880  \n",
       "2              0.643098     0.713115     0.286885  1.0  0.494986  \n",
       "3              0.794613     0.607582     0.392418  0.0  0.505014  \n",
       "4              0.875421     0.567623     0.432377  1.0  0.501433  \n",
       "..                  ...          ...          ...  ...       ...  \n",
       "353            0.430976     0.694672     0.305328  0.0  0.756447  \n",
       "354            0.531987     0.629098     0.370902  0.0  0.480659  \n",
       "355            0.676768     0.605533     0.394467  1.0  0.519341  \n",
       "356            0.838384     0.657787     0.342213  1.0  0.405444  \n",
       "357            0.686869     0.672131     0.327869  0.0  0.594556  \n",
       "\n",
       "[358 rows x 8 columns]"
      ]
     },
     "execution_count": 171,
     "metadata": {},
     "output_type": "execute_result"
    }
   ],
   "source": [
    "normalized_df"
   ]
  },
  {
   "cell_type": "code",
   "execution_count": 173,
   "id": "b38d74c8",
   "metadata": {},
   "outputs": [
    {
     "data": {
      "image/png": "[encoded data removed]",
      "text/plain": [
       "<Figure size 432x288 with 1 Axes>"
      ]
     },
     "metadata": {
      "needs_background": "light"
     },
     "output_type": "display_data"
    }
   ],
   "source": [
    "sns.regplot(x='rank', y='won', data=normalized_df, logistic=True, color='blue')\n",
    "plt.savefig('rankdiff_win_standardised', dpi=300)"
   ]
  },
  {
   "cell_type": "code",
   "execution_count": 105,
   "id": "ffa00d58",
   "metadata": {},
   "outputs": [],
   "source": [
    "from sklearn.linear_model import LogisticRegression\n",
    "logreg = LogisticRegression()\n",
    "logreg.fit(X_train,y_train)\n",
    "y_pred=logreg.predict(X_test)"
   ]
  },
  {
   "cell_type": "code",
   "execution_count": 106,
   "id": "3c10683d",
   "metadata": {},
   "outputs": [
    {
     "data": {
      "text/plain": [
       "array([[12,  3],\n",
       "       [ 8, 13]])"
      ]
     },
     "execution_count": 106,
     "metadata": {},
     "output_type": "execute_result"
    }
   ],
   "source": [
    "from sklearn import metrics\n",
    "cnf_matrix = metrics.confusion_matrix(y_test, y_pred)\n",
    "cnf_matrix"
   ]
  },
  {
   "cell_type": "code",
   "execution_count": 107,
   "id": "83454a07",
   "metadata": {},
   "outputs": [
    {
     "name": "stdout",
     "output_type": "stream",
     "text": [
      "Accuracy: 0.6944444444444444\n"
     ]
    }
   ],
   "source": [
    "print(\"Accuracy:\",metrics.accuracy_score(y_test, y_pred))\n"
   ]
  },
  {
   "cell_type": "code",
   "execution_count": 108,
   "id": "6d6e65e4",
   "metadata": {},
   "outputs": [
    {
     "name": "stdout",
     "output_type": "stream",
     "text": [
      "Cross-Validation Accuracy Scores [0.70769231 0.67692308 0.6875     0.609375   0.71875   ]\n"
     ]
    },
    {
     "data": {
      "text/plain": [
       "(0.609375, 0.6800480769230769, 0.71875)"
      ]
     },
     "execution_count": 108,
     "metadata": {},
     "output_type": "execute_result"
    }
   ],
   "source": [
    "from sklearn.model_selection import cross_val_score\n",
    "\n",
    "scores = cross_val_score(logreg, X_train, y_train, cv=5)\n",
    "print('Cross-Validation Accuracy Scores', scores)\n",
    "scores = pd.Series(scores)\n",
    "scores.min(), scores.mean(), scores.max()"
   ]
  },
  {
   "cell_type": "code",
   "execution_count": 109,
   "id": "c9bf739a",
   "metadata": {},
   "outputs": [
    {
     "data": {
      "text/plain": [
       "0.3055555555555556"
      ]
     },
     "execution_count": 109,
     "metadata": {},
     "output_type": "execute_result"
    }
   ],
   "source": [
    "metrics.mean_squared_error(y_test, y_pred)"
   ]
  },
  {
   "cell_type": "code",
   "execution_count": 110,
   "id": "f3de65ca",
   "metadata": {},
   "outputs": [
    {
     "name": "stdout",
     "output_type": "stream",
     "text": [
      "Accuracy: 0.6666666666666666\n"
     ]
    }
   ],
   "source": [
    "from sklearn.ensemble import RandomForestClassifier\n",
    "from sklearn import metrics\n",
    "\n",
    "clf=RandomForestClassifier(n_estimators=100)\n",
    "clf.fit(X_train,y_train)\n",
    "y_pred=clf.predict(X_test)\n",
    "print(\"Accuracy:\",metrics.accuracy_score(y_test, y_pred))"
   ]
  },
  {
   "cell_type": "code",
   "execution_count": 111,
   "id": "9bde1263",
   "metadata": {},
   "outputs": [
    {
     "name": "stdout",
     "output_type": "stream",
     "text": [
      "Cross-Validation Accuracy Scores [0.66153846 0.75384615 0.640625   0.59375    0.71875   ]\n"
     ]
    },
    {
     "data": {
      "text/plain": [
       "(0.59375, 0.673701923076923, 0.7538461538461538)"
      ]
     },
     "execution_count": 111,
     "metadata": {},
     "output_type": "execute_result"
    }
   ],
   "source": [
    "scores = cross_val_score(clf, X_train, y_train, cv=5)\n",
    "print('Cross-Validation Accuracy Scores', scores)\n",
    "scores = pd.Series(scores)\n",
    "scores.min(), scores.mean(), scores.max()"
   ]
  },
  {
   "cell_type": "code",
   "execution_count": 112,
   "id": "b39ee752",
   "metadata": {},
   "outputs": [
    {
     "data": {
      "text/plain": [
       "0.3333333333333333"
      ]
     },
     "execution_count": 112,
     "metadata": {},
     "output_type": "execute_result"
    }
   ],
   "source": [
    "metrics.mean_squared_error(y_test, y_pred)"
   ]
  },
  {
   "cell_type": "code",
   "execution_count": 113,
   "id": "455a25b9",
   "metadata": {},
   "outputs": [],
   "source": [
    "feature_names = ['rank', '%pts won-serve','%pts won-longrally','%pts won-FH']\n",
    "importances = clf.feature_importances_"
   ]
  },
  {
   "cell_type": "code",
   "execution_count": 114,
   "id": "27400334",
   "metadata": {},
   "outputs": [],
   "source": [
    "std = np.std([tree.feature_importances_ for tree in clf.estimators_], axis=0)"
   ]
  },
  {
   "cell_type": "code",
   "execution_count": 143,
   "id": "8973a763",
   "metadata": {},
   "outputs": [
    {
     "data": {
      "image/png": "[encoded data removed]",
      "text/plain": [
       "<Figure size 432x288 with 1 Axes>"
      ]
     },
     "metadata": {
      "needs_background": "light"
     },
     "output_type": "display_data"
    }
   ],
   "source": [
    "forest_importances = pd.Series(importances, index=feature_names)\n",
    "\n",
    "fig, ax = plt.subplots()\n",
    "forest_importances.plot.bar(yerr=std, ax=ax, color='green')\n",
    "ax.set_title(\"Feature importances using MDI\")\n",
    "ax.set_ylabel(\"Mean decrease in impurity\")\n",
    "fig.tight_layout()\n",
    "fig.savefig('feature_importance', dpi=300)"
   ]
  },
  {
   "cell_type": "code",
   "execution_count": 116,
   "id": "5563e9a1",
   "metadata": {},
   "outputs": [],
   "source": [
    "from sklearn import svm"
   ]
  },
  {
   "cell_type": "code",
   "execution_count": 124,
   "id": "041db956",
   "metadata": {},
   "outputs": [],
   "source": [
    "clf = svm.SVC(kernel='poly') # Linear Kernel\n",
    "clf.fit(X_train, y_train)\n",
    "y_pred = clf.predict(X_test)"
   ]
  },
  {
   "cell_type": "code",
   "execution_count": 125,
   "id": "2463598c",
   "metadata": {},
   "outputs": [
    {
     "name": "stdout",
     "output_type": "stream",
     "text": [
      "Accuracy: 0.75\n"
     ]
    }
   ],
   "source": [
    "print(\"Accuracy:\",metrics.accuracy_score(y_test, y_pred))"
   ]
  },
  {
   "cell_type": "code",
   "execution_count": 126,
   "id": "a24b4536",
   "metadata": {},
   "outputs": [
    {
     "name": "stdout",
     "output_type": "stream",
     "text": [
      "Cross-Validation Accuracy Scores [0.67692308 0.66153846 0.703125   0.640625   0.6875    ]\n"
     ]
    },
    {
     "data": {
      "text/plain": [
       "(0.640625, 0.6739423076923077, 0.703125)"
      ]
     },
     "execution_count": 126,
     "metadata": {},
     "output_type": "execute_result"
    }
   ],
   "source": [
    "scores = cross_val_score(clf, X_train, y_train, cv=5)\n",
    "print('Cross-Validation Accuracy Scores', scores)\n",
    "scores = pd.Series(scores)\n",
    "scores.min(), scores.mean(), scores.max()"
   ]
  },
  {
   "cell_type": "code",
   "execution_count": 127,
   "id": "40d37f21",
   "metadata": {},
   "outputs": [
    {
     "data": {
      "text/plain": [
       "0.25"
      ]
     },
     "execution_count": 127,
     "metadata": {},
     "output_type": "execute_result"
    }
   ],
   "source": [
    "metrics.mean_squared_error(y_test, y_pred)"
   ]
  },
  {
   "cell_type": "code",
   "execution_count": 141,
   "id": "683470b5",
   "metadata": {},
   "outputs": [
    {
     "data": {
      "image/png": "[encoded data removed]",
      "text/plain": [
       "<Figure size 432x288 with 1 Axes>"
      ]
     },
     "metadata": {
      "needs_background": "light"
     },
     "output_type": "display_data"
    }
   ],
   "source": [
    "import scikitplot as skplt\n",
    "\n",
    "skplt.estimators.plot_learning_curve(LogisticRegression(), normalized_df[feature_names], normalized_df.won,\n",
    "                                     cv=5, shuffle=True, scoring=\"accuracy\",\n",
    "                                     n_jobs=-1, figsize=(6,4), title_fontsize=\"large\", text_fontsize=\"large\",\n",
    "                                     title=\"Logistic Regression Learning Curve\");\n",
    "plt.savefig('LR_Learning_Curve', dpi=300)"
   ]
  },
  {
   "cell_type": "code",
   "execution_count": 188,
   "id": "b59a85c8",
   "metadata": {},
   "outputs": [
    {
     "data": {
      "image/png": "[encoded data removed]",
      "text/plain": [
       "<Figure size 432x288 with 1 Axes>"
      ]
     },
     "metadata": {
      "needs_background": "light"
     },
     "output_type": "display_data"
    }
   ],
   "source": [
    "skplt.estimators.plot_learning_curve(svm.SVC(kernel='linear'), normalized_df[feature_names], normalized_df.won,\n",
    "                                     cv=5, shuffle=True, scoring=\"accuracy\",\n",
    "                                     n_jobs=-1, figsize=(6,4), title_fontsize=\"large\", text_fontsize=\"large\",\n",
    "                                     title=\"Linear SVM Learning Curve\");\n",
    "plt.savefig('SVMLinear_Learning_Curve', dpi=300)"
   ]
  },
  {
   "cell_type": "code",
   "execution_count": 185,
   "id": "9dbca8c3",
   "metadata": {},
   "outputs": [],
   "source": [
    "lr_probas = LogisticRegression().fit(X_train, y_train).predict_proba(X_test)\n",
    "rf_probas = RandomForestClassifier().fit(X_train, y_train).predict_proba(X_test)\n",
    "#et_scores = svm.SVC().fit(X_train, y_train).predict_proba(X_test)\n",
    "\n",
    "probas_list = [lr_probas, rf_probas]#, et_scores]\n",
    "clf_names = ['Logistic Regression', 'Random Forest']#, 'svm']"
   ]
  },
  {
   "cell_type": "code",
   "execution_count": 152,
   "id": "2f0b5248",
   "metadata": {},
   "outputs": [
    {
     "data": {
      "image/png": "[encoded data removed]",
      "text/plain": [
       "<Figure size 864x432 with 1 Axes>"
      ]
     },
     "metadata": {
      "needs_background": "light"
     },
     "output_type": "display_data"
    }
   ],
   "source": [
    "skplt.metrics.plot_calibration_curve(y_test,\n",
    "                                     probas_list,\n",
    "                                     clf_names, n_bins=15,\n",
    "                                     figsize=(12,6)\n",
    "                                     );"
   ]
  },
  {
   "cell_type": "code",
   "execution_count": 174,
   "id": "2b827122",
   "metadata": {},
   "outputs": [],
   "source": [
    "def accuracy(confusion_matrix):\n",
    "    diagonal_sum = confusion_matrix.trace()\n",
    "    sum_of_all_elements = confusion_matrix.sum()\n",
    "    return diagonal_sum / sum_of_all_elements"
   ]
  },
  {
   "cell_type": "code",
   "execution_count": 175,
   "id": "fd196854",
   "metadata": {},
   "outputs": [],
   "source": [
    "from sklearn.neural_network import MLPClassifier\n",
    "\n",
    "#Initializing the MLPClassifier\n",
    "classifier = MLPClassifier(hidden_layer_sizes=(150,100,50), max_iter=300,activation = 'relu',solver='adam',random_state=1)"
   ]
  },
  {
   "cell_type": "code",
   "execution_count": 177,
   "id": "7b427f41",
   "metadata": {},
   "outputs": [
    {
     "name": "stderr",
     "output_type": "stream",
     "text": [
      "/Users/sophiechiang/opt/anaconda3/lib/python3.8/site-packages/sklearn/neural_network/_multilayer_perceptron.py:614: ConvergenceWarning: Stochastic Optimizer: Maximum iterations (300) reached and the optimization hasn't converged yet.\n",
      "  warnings.warn(\n"
     ]
    },
    {
     "data": {
      "text/plain": [
       "MLPClassifier(hidden_layer_sizes=(150, 100, 50), max_iter=300, random_state=1)"
      ]
     },
     "execution_count": 177,
     "metadata": {},
     "output_type": "execute_result"
    }
   ],
   "source": [
    "classifier.fit(X_train, y_train)"
   ]
  },
  {
   "cell_type": "code",
   "execution_count": 178,
   "id": "e91069df",
   "metadata": {},
   "outputs": [],
   "source": [
    "y_pred = classifier.predict(X_test)"
   ]
  },
  {
   "cell_type": "code",
   "execution_count": 181,
   "id": "13a81070",
   "metadata": {},
   "outputs": [
    {
     "name": "stdout",
     "output_type": "stream",
     "text": [
      "Accuracy of MLPClassifier :  0.7222222222222222\n"
     ]
    }
   ],
   "source": [
    "from sklearn.metrics import confusion_matrix\n",
    "#Comparing the predictions against the actual observations in y_val\n",
    "cm = confusion_matrix(y_pred, y_test)\n",
    "\n",
    "#Printing the accuracy\n",
    "print(\"Accuracy of MLPClassifier : \"'', accuracy(cm))"
   ]
  },
  {
   "cell_type": "code",
   "execution_count": 182,
   "id": "a000929c",
   "metadata": {},
   "outputs": [
    {
     "name": "stdout",
     "output_type": "stream",
     "text": [
      "Cross-Validation Accuracy Scores [0.76923077 0.6        0.65625    0.671875   0.625     ]\n"
     ]
    },
    {
     "data": {
      "text/plain": [
       "(0.6, 0.6644711538461539, 0.7692307692307693)"
      ]
     },
     "execution_count": 182,
     "metadata": {},
     "output_type": "execute_result"
    }
   ],
   "source": [
    "scores = cross_val_score(classifier, X_train, y_train, cv=5)\n",
    "print('Cross-Validation Accuracy Scores', scores)\n",
    "scores = pd.Series(scores)\n",
    "scores.min(), scores.mean(), scores.max()"
   ]
  },
  {
   "cell_type": "code",
   "execution_count": null,
   "id": "026ac9d8",
   "metadata": {},
   "outputs": [],
   "source": []
  }
 ],
 "metadata": {
  "kernelspec": {
   "display_name": "Python 3",
   "language": "python",
   "name": "python3"
  },
  "language_info": {
   "codemirror_mode": {
    "name": "ipython",
    "version": 3
   },
   "file_extension": ".py",
   "mimetype": "text/x-python",
   "name": "python",
   "nbconvert_exporter": "python",
   "pygments_lexer": "ipython3",
   "version": "3.8.8"
  }
 },
 "nbformat": 4,
 "nbformat_minor": 5
}
