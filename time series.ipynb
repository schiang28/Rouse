{
 "cells": [
  {
   "cell_type": "code",
   "execution_count": 8,
   "id": "7fc1e13d",
   "metadata": {},
   "outputs": [],
   "source": [
    "example = '''1:0\t6th\tZhendong\tC3\tBackhand\tTop spin\tOvtcharov\t\n",
    "1:1\t3rd\tOvtcharov\tR3\tBackhand\tTop spin\tOvtcharov\t\n",
    "2:1\t9th\tZhendong\tL3\tForehand\tTop spin\tZhendong\t\n",
    "2:2\t2nd\tOvtcharov\tL2\tBackhand\tTop spin\tZhendong\t\n",
    "2:3\t5th\tOvtcharov\tC2\tBackhand\tTop spin\tOvtcharov\t\n",
    "2:4\t7th\tOvtcharov\tL3\tBackhand\tTop spin\tOvtcharov\t\n",
    "3:4\t5th\tZhendong\tR3\tBackhand\tTop spin\tZhendong\t\n",
    "3:5\t4th\tOvtcharov\tR3\tBackhand\tTop spin\tZhendong\t\n",
    "3:6\t3rd\tOvtcharov\tC3\tBackhand\tTop spin\tOvtcharov\t\n",
    "3:7\t5th\tOvtcharov\tR3\tBackhand\tTop spin\tOvtcharov\t\n",
    "3:8\t4th\tOvtcharov\tL3\tForehand\tTop spin\tZhendong\t\n",
    "3:9\t2nd\tOvtcharov\tC2\tForehand\tPush\tZhendong\t\n",
    "3:10\t7th\tOvtcharov\tR3\tBackhand\tTop spin\tOvtcharov\t\n",
    "3:11\t3rd\tOvtcharov\tR3\tBackhand\tTop spin\tOvtcharov\t\n",
    "'''"
   ]
  },
  {
   "cell_type": "code",
   "execution_count": 12,
   "id": "83bfdf31",
   "metadata": {},
   "outputs": [
    {
     "data": {
      "text/plain": [
       "[['1:0', '6th', 'Zhendong', 'C3', 'Backhand', 'Top spin', 'Ovtcharov', ''],\n",
       " ['1:1', '3rd', 'Ovtcharov', 'R3', 'Backhand', 'Top spin', 'Ovtcharov', ''],\n",
       " ['2:1', '9th', 'Zhendong', 'L3', 'Forehand', 'Top spin', 'Zhendong', ''],\n",
       " ['2:2', '2nd', 'Ovtcharov', 'L2', 'Backhand', 'Top spin', 'Zhendong', ''],\n",
       " ['2:3', '5th', 'Ovtcharov', 'C2', 'Backhand', 'Top spin', 'Ovtcharov', ''],\n",
       " ['2:4', '7th', 'Ovtcharov', 'L3', 'Backhand', 'Top spin', 'Ovtcharov', ''],\n",
       " ['3:4', '5th', 'Zhendong', 'R3', 'Backhand', 'Top spin', 'Zhendong', ''],\n",
       " ['3:5', '4th', 'Ovtcharov', 'R3', 'Backhand', 'Top spin', 'Zhendong', ''],\n",
       " ['3:6', '3rd', 'Ovtcharov', 'C3', 'Backhand', 'Top spin', 'Ovtcharov', ''],\n",
       " ['3:7', '5th', 'Ovtcharov', 'R3', 'Backhand', 'Top spin', 'Ovtcharov', ''],\n",
       " ['3:8', '4th', 'Ovtcharov', 'L3', 'Forehand', 'Top spin', 'Zhendong', ''],\n",
       " ['3:9', '2nd', 'Ovtcharov', 'C2', 'Forehand', 'Push', 'Zhendong', ''],\n",
       " ['3:10', '7th', 'Ovtcharov', 'R3', 'Backhand', 'Top spin', 'Ovtcharov', ''],\n",
       " ['3:11', '3rd', 'Ovtcharov', 'R3', 'Backhand', 'Top spin', 'Ovtcharov', '']]"
      ]
     },
     "execution_count": 12,
     "metadata": {},
     "output_type": "execute_result"
    }
   ],
   "source": [
    "data = [l.split(\"\\t\") for l in example.splitlines()]\n",
    "data"
   ]
  },
  {
   "cell_type": "code",
   "execution_count": 15,
   "id": "e7cef315",
   "metadata": {},
   "outputs": [
    {
     "name": "stdout",
     "output_type": "stream",
     "text": [
      "[0, 1.0, 1.0, 1.0, 1.0, 1.0, 1.0, 1.0, 1.0, 1.0, 0.875, 0.7777777777777778, 0.8, 0.8181818181818182]\n"
     ]
    }
   ],
   "source": [
    "# for Ovtcharov percenetage points won on backhand\n",
    "pwob = 0\n",
    "pwit = 0\n",
    "percentages=[]\n",
    "for p in range(len(data)):\n",
    "    point = data[p]\n",
    "    if point[2]=='Ovtcharov':\n",
    "        if point[4]=='Backhand':\n",
    "            pwob+=1\n",
    "        pwit+=1\n",
    "        bhp = pwob/pwit\n",
    "        percentages.append(bhp)\n",
    "    else:\n",
    "        if len(percentages)>1:\n",
    "            percentages.append(percentages[-1])\n",
    "        else:\n",
    "            percentages.append(0)\n",
    "\n",
    "print(percentages)"
   ]
  },
  {
   "cell_type": "code",
   "execution_count": null,
   "id": "7b6a1db5",
   "metadata": {},
   "outputs": [],
   "source": []
  }
 ],
 "metadata": {
  "kernelspec": {
   "display_name": "Python 3",
   "language": "python",
   "name": "python3"
  },
  "language_info": {
   "codemirror_mode": {
    "name": "ipython",
    "version": 3
   },
   "file_extension": ".py",
   "mimetype": "text/x-python",
   "name": "python",
   "nbconvert_exporter": "python",
   "pygments_lexer": "ipython3",
   "version": "3.8.8"
  }
 },
 "nbformat": 4,
 "nbformat_minor": 5
}
