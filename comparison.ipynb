{
 "cells": [
  {
   "cell_type": "code",
   "execution_count": 1,
   "id": "865f740c",
   "metadata": {},
   "outputs": [],
   "source": [
    "import pandas as pd\n",
    "import numpy as np\n",
    "import seaborn as sns\n",
    "import matplotlib.pyplot as plt"
   ]
  },
  {
   "cell_type": "code",
   "execution_count": 2,
   "id": "37a6cd28",
   "metadata": {},
   "outputs": [],
   "source": [
    "data = pd.read_csv('data_scaled.csv')"
   ]
  },
  {
   "cell_type": "code",
   "execution_count": 3,
   "id": "e22ad0f1",
   "metadata": {},
   "outputs": [
    {
     "data": {
      "text/html": [
       "<div>\n",
       "<style scoped>\n",
       "    .dataframe tbody tr th:only-of-type {\n",
       "        vertical-align: middle;\n",
       "    }\n",
       "\n",
       "    .dataframe tbody tr th {\n",
       "        vertical-align: top;\n",
       "    }\n",
       "\n",
       "    .dataframe thead th {\n",
       "        text-align: right;\n",
       "    }\n",
       "</style>\n",
       "<table border=\"1\" class=\"dataframe\">\n",
       "  <thead>\n",
       "    <tr style=\"text-align: right;\">\n",
       "      <th></th>\n",
       "      <th>SP</th>\n",
       "      <th>RP</th>\n",
       "      <th>SRP</th>\n",
       "      <th>LRP</th>\n",
       "      <th>FHP</th>\n",
       "      <th>BHP</th>\n",
       "      <th>RANK</th>\n",
       "      <th>RANKDIFF</th>\n",
       "      <th>SA</th>\n",
       "      <th>SRA</th>\n",
       "      <th>FHA</th>\n",
       "      <th>BALANCE</th>\n",
       "      <th>WON</th>\n",
       "    </tr>\n",
       "  </thead>\n",
       "  <tbody>\n",
       "    <tr>\n",
       "      <th>0</th>\n",
       "      <td>0.600</td>\n",
       "      <td>0.400</td>\n",
       "      <td>0.244</td>\n",
       "      <td>0.756</td>\n",
       "      <td>0.511</td>\n",
       "      <td>0.489</td>\n",
       "      <td>1</td>\n",
       "      <td>-0.062078</td>\n",
       "      <td>0.200</td>\n",
       "      <td>-0.512</td>\n",
       "      <td>0.022</td>\n",
       "      <td>0.353155</td>\n",
       "      <td>1.0</td>\n",
       "    </tr>\n",
       "    <tr>\n",
       "      <th>1</th>\n",
       "      <td>0.666</td>\n",
       "      <td>0.334</td>\n",
       "      <td>0.194</td>\n",
       "      <td>0.806</td>\n",
       "      <td>0.171</td>\n",
       "      <td>0.829</td>\n",
       "      <td>12</td>\n",
       "      <td>0.062078</td>\n",
       "      <td>0.332</td>\n",
       "      <td>-0.612</td>\n",
       "      <td>-0.658</td>\n",
       "      <td>0.879854</td>\n",
       "      <td>-1.0</td>\n",
       "    </tr>\n",
       "    <tr>\n",
       "      <th>2</th>\n",
       "      <td>0.522</td>\n",
       "      <td>0.478</td>\n",
       "      <td>0.295</td>\n",
       "      <td>0.705</td>\n",
       "      <td>0.720</td>\n",
       "      <td>0.280</td>\n",
       "      <td>3</td>\n",
       "      <td>-0.039504</td>\n",
       "      <td>0.044</td>\n",
       "      <td>-0.410</td>\n",
       "      <td>0.440</td>\n",
       "      <td>0.450243</td>\n",
       "      <td>1.0</td>\n",
       "    </tr>\n",
       "    <tr>\n",
       "      <th>3</th>\n",
       "      <td>0.558</td>\n",
       "      <td>0.442</td>\n",
       "      <td>0.205</td>\n",
       "      <td>0.795</td>\n",
       "      <td>0.617</td>\n",
       "      <td>0.383</td>\n",
       "      <td>10</td>\n",
       "      <td>0.039504</td>\n",
       "      <td>0.116</td>\n",
       "      <td>-0.590</td>\n",
       "      <td>0.234</td>\n",
       "      <td>0.478155</td>\n",
       "      <td>-1.0</td>\n",
       "    </tr>\n",
       "    <tr>\n",
       "      <th>4</th>\n",
       "      <td>0.561</td>\n",
       "      <td>0.439</td>\n",
       "      <td>0.157</td>\n",
       "      <td>0.843</td>\n",
       "      <td>0.578</td>\n",
       "      <td>0.422</td>\n",
       "      <td>3</td>\n",
       "      <td>0.011287</td>\n",
       "      <td>0.122</td>\n",
       "      <td>-0.686</td>\n",
       "      <td>0.156</td>\n",
       "      <td>0.492718</td>\n",
       "      <td>1.0</td>\n",
       "    </tr>\n",
       "    <tr>\n",
       "      <th>...</th>\n",
       "      <td>...</td>\n",
       "      <td>...</td>\n",
       "      <td>...</td>\n",
       "      <td>...</td>\n",
       "      <td>...</td>\n",
       "      <td>...</td>\n",
       "      <td>...</td>\n",
       "      <td>...</td>\n",
       "      <td>...</td>\n",
       "      <td>...</td>\n",
       "      <td>...</td>\n",
       "      <td>...</td>\n",
       "      <td>...</td>\n",
       "    </tr>\n",
       "    <tr>\n",
       "      <th>353</th>\n",
       "      <td>0.552</td>\n",
       "      <td>0.448</td>\n",
       "      <td>0.421</td>\n",
       "      <td>0.579</td>\n",
       "      <td>0.702</td>\n",
       "      <td>0.298</td>\n",
       "      <td>368</td>\n",
       "      <td>2.020364</td>\n",
       "      <td>0.104</td>\n",
       "      <td>-0.158</td>\n",
       "      <td>0.404</td>\n",
       "      <td>0.311893</td>\n",
       "      <td>-1.0</td>\n",
       "    </tr>\n",
       "    <tr>\n",
       "      <th>354</th>\n",
       "      <td>0.555</td>\n",
       "      <td>0.445</td>\n",
       "      <td>0.361</td>\n",
       "      <td>0.639</td>\n",
       "      <td>0.638</td>\n",
       "      <td>0.362</td>\n",
       "      <td>28</td>\n",
       "      <td>-0.152374</td>\n",
       "      <td>0.110</td>\n",
       "      <td>-0.278</td>\n",
       "      <td>0.276</td>\n",
       "      <td>0.310680</td>\n",
       "      <td>-1.0</td>\n",
       "    </tr>\n",
       "    <tr>\n",
       "      <th>355</th>\n",
       "      <td>0.525</td>\n",
       "      <td>0.475</td>\n",
       "      <td>0.275</td>\n",
       "      <td>0.725</td>\n",
       "      <td>0.615</td>\n",
       "      <td>0.385</td>\n",
       "      <td>55</td>\n",
       "      <td>0.152374</td>\n",
       "      <td>0.050</td>\n",
       "      <td>-0.450</td>\n",
       "      <td>0.230</td>\n",
       "      <td>0.350728</td>\n",
       "      <td>1.0</td>\n",
       "    </tr>\n",
       "    <tr>\n",
       "      <th>356</th>\n",
       "      <td>0.512</td>\n",
       "      <td>0.488</td>\n",
       "      <td>0.179</td>\n",
       "      <td>0.821</td>\n",
       "      <td>0.666</td>\n",
       "      <td>0.334</td>\n",
       "      <td>10</td>\n",
       "      <td>-0.744939</td>\n",
       "      <td>0.024</td>\n",
       "      <td>-0.642</td>\n",
       "      <td>0.332</td>\n",
       "      <td>0.513350</td>\n",
       "      <td>1.0</td>\n",
       "    </tr>\n",
       "    <tr>\n",
       "      <th>357</th>\n",
       "      <td>0.461</td>\n",
       "      <td>0.539</td>\n",
       "      <td>0.269</td>\n",
       "      <td>0.731</td>\n",
       "      <td>0.680</td>\n",
       "      <td>0.320</td>\n",
       "      <td>142</td>\n",
       "      <td>0.744939</td>\n",
       "      <td>-0.078</td>\n",
       "      <td>-0.462</td>\n",
       "      <td>0.360</td>\n",
       "      <td>0.453883</td>\n",
       "      <td>-1.0</td>\n",
       "    </tr>\n",
       "  </tbody>\n",
       "</table>\n",
       "<p>358 rows × 13 columns</p>\n",
       "</div>"
      ],
      "text/plain": [
       "        SP     RP    SRP    LRP    FHP    BHP  RANK  RANKDIFF     SA    SRA  \\\n",
       "0    0.600  0.400  0.244  0.756  0.511  0.489     1 -0.062078  0.200 -0.512   \n",
       "1    0.666  0.334  0.194  0.806  0.171  0.829    12  0.062078  0.332 -0.612   \n",
       "2    0.522  0.478  0.295  0.705  0.720  0.280     3 -0.039504  0.044 -0.410   \n",
       "3    0.558  0.442  0.205  0.795  0.617  0.383    10  0.039504  0.116 -0.590   \n",
       "4    0.561  0.439  0.157  0.843  0.578  0.422     3  0.011287  0.122 -0.686   \n",
       "..     ...    ...    ...    ...    ...    ...   ...       ...    ...    ...   \n",
       "353  0.552  0.448  0.421  0.579  0.702  0.298   368  2.020364  0.104 -0.158   \n",
       "354  0.555  0.445  0.361  0.639  0.638  0.362    28 -0.152374  0.110 -0.278   \n",
       "355  0.525  0.475  0.275  0.725  0.615  0.385    55  0.152374  0.050 -0.450   \n",
       "356  0.512  0.488  0.179  0.821  0.666  0.334    10 -0.744939  0.024 -0.642   \n",
       "357  0.461  0.539  0.269  0.731  0.680  0.320   142  0.744939 -0.078 -0.462   \n",
       "\n",
       "       FHA   BALANCE  WON  \n",
       "0    0.022  0.353155  1.0  \n",
       "1   -0.658  0.879854 -1.0  \n",
       "2    0.440  0.450243  1.0  \n",
       "3    0.234  0.478155 -1.0  \n",
       "4    0.156  0.492718  1.0  \n",
       "..     ...       ...  ...  \n",
       "353  0.404  0.311893 -1.0  \n",
       "354  0.276  0.310680 -1.0  \n",
       "355  0.230  0.350728  1.0  \n",
       "356  0.332  0.513350  1.0  \n",
       "357  0.360  0.453883 -1.0  \n",
       "\n",
       "[358 rows x 13 columns]"
      ]
     },
     "execution_count": 3,
     "metadata": {},
     "output_type": "execute_result"
    }
   ],
   "source": [
    "data"
   ]
  },
  {
   "cell_type": "code",
   "execution_count": 4,
   "id": "bf5f7fdc",
   "metadata": {},
   "outputs": [],
   "source": [
    "data = data.drop(columns=['BALANCE', 'FHA', 'SA', 'SRA', 'FHA','RANKDIFF'])"
   ]
  },
  {
   "cell_type": "code",
   "execution_count": 5,
   "id": "580444ec",
   "metadata": {},
   "outputs": [
    {
     "data": {
      "text/html": [
       "<div>\n",
       "<style scoped>\n",
       "    .dataframe tbody tr th:only-of-type {\n",
       "        vertical-align: middle;\n",
       "    }\n",
       "\n",
       "    .dataframe tbody tr th {\n",
       "        vertical-align: top;\n",
       "    }\n",
       "\n",
       "    .dataframe thead th {\n",
       "        text-align: right;\n",
       "    }\n",
       "</style>\n",
       "<table border=\"1\" class=\"dataframe\">\n",
       "  <thead>\n",
       "    <tr style=\"text-align: right;\">\n",
       "      <th></th>\n",
       "      <th>SP</th>\n",
       "      <th>RP</th>\n",
       "      <th>SRP</th>\n",
       "      <th>LRP</th>\n",
       "      <th>FHP</th>\n",
       "      <th>BHP</th>\n",
       "      <th>RANK</th>\n",
       "      <th>WON</th>\n",
       "    </tr>\n",
       "  </thead>\n",
       "  <tbody>\n",
       "    <tr>\n",
       "      <th>0</th>\n",
       "      <td>0.600</td>\n",
       "      <td>0.400</td>\n",
       "      <td>0.244</td>\n",
       "      <td>0.756</td>\n",
       "      <td>0.511</td>\n",
       "      <td>0.489</td>\n",
       "      <td>1</td>\n",
       "      <td>1.0</td>\n",
       "    </tr>\n",
       "    <tr>\n",
       "      <th>1</th>\n",
       "      <td>0.666</td>\n",
       "      <td>0.334</td>\n",
       "      <td>0.194</td>\n",
       "      <td>0.806</td>\n",
       "      <td>0.171</td>\n",
       "      <td>0.829</td>\n",
       "      <td>12</td>\n",
       "      <td>-1.0</td>\n",
       "    </tr>\n",
       "    <tr>\n",
       "      <th>2</th>\n",
       "      <td>0.522</td>\n",
       "      <td>0.478</td>\n",
       "      <td>0.295</td>\n",
       "      <td>0.705</td>\n",
       "      <td>0.720</td>\n",
       "      <td>0.280</td>\n",
       "      <td>3</td>\n",
       "      <td>1.0</td>\n",
       "    </tr>\n",
       "    <tr>\n",
       "      <th>3</th>\n",
       "      <td>0.558</td>\n",
       "      <td>0.442</td>\n",
       "      <td>0.205</td>\n",
       "      <td>0.795</td>\n",
       "      <td>0.617</td>\n",
       "      <td>0.383</td>\n",
       "      <td>10</td>\n",
       "      <td>-1.0</td>\n",
       "    </tr>\n",
       "    <tr>\n",
       "      <th>4</th>\n",
       "      <td>0.561</td>\n",
       "      <td>0.439</td>\n",
       "      <td>0.157</td>\n",
       "      <td>0.843</td>\n",
       "      <td>0.578</td>\n",
       "      <td>0.422</td>\n",
       "      <td>3</td>\n",
       "      <td>1.0</td>\n",
       "    </tr>\n",
       "    <tr>\n",
       "      <th>...</th>\n",
       "      <td>...</td>\n",
       "      <td>...</td>\n",
       "      <td>...</td>\n",
       "      <td>...</td>\n",
       "      <td>...</td>\n",
       "      <td>...</td>\n",
       "      <td>...</td>\n",
       "      <td>...</td>\n",
       "    </tr>\n",
       "    <tr>\n",
       "      <th>353</th>\n",
       "      <td>0.552</td>\n",
       "      <td>0.448</td>\n",
       "      <td>0.421</td>\n",
       "      <td>0.579</td>\n",
       "      <td>0.702</td>\n",
       "      <td>0.298</td>\n",
       "      <td>368</td>\n",
       "      <td>-1.0</td>\n",
       "    </tr>\n",
       "    <tr>\n",
       "      <th>354</th>\n",
       "      <td>0.555</td>\n",
       "      <td>0.445</td>\n",
       "      <td>0.361</td>\n",
       "      <td>0.639</td>\n",
       "      <td>0.638</td>\n",
       "      <td>0.362</td>\n",
       "      <td>28</td>\n",
       "      <td>-1.0</td>\n",
       "    </tr>\n",
       "    <tr>\n",
       "      <th>355</th>\n",
       "      <td>0.525</td>\n",
       "      <td>0.475</td>\n",
       "      <td>0.275</td>\n",
       "      <td>0.725</td>\n",
       "      <td>0.615</td>\n",
       "      <td>0.385</td>\n",
       "      <td>55</td>\n",
       "      <td>1.0</td>\n",
       "    </tr>\n",
       "    <tr>\n",
       "      <th>356</th>\n",
       "      <td>0.512</td>\n",
       "      <td>0.488</td>\n",
       "      <td>0.179</td>\n",
       "      <td>0.821</td>\n",
       "      <td>0.666</td>\n",
       "      <td>0.334</td>\n",
       "      <td>10</td>\n",
       "      <td>1.0</td>\n",
       "    </tr>\n",
       "    <tr>\n",
       "      <th>357</th>\n",
       "      <td>0.461</td>\n",
       "      <td>0.539</td>\n",
       "      <td>0.269</td>\n",
       "      <td>0.731</td>\n",
       "      <td>0.680</td>\n",
       "      <td>0.320</td>\n",
       "      <td>142</td>\n",
       "      <td>-1.0</td>\n",
       "    </tr>\n",
       "  </tbody>\n",
       "</table>\n",
       "<p>358 rows × 8 columns</p>\n",
       "</div>"
      ],
      "text/plain": [
       "        SP     RP    SRP    LRP    FHP    BHP  RANK  WON\n",
       "0    0.600  0.400  0.244  0.756  0.511  0.489     1  1.0\n",
       "1    0.666  0.334  0.194  0.806  0.171  0.829    12 -1.0\n",
       "2    0.522  0.478  0.295  0.705  0.720  0.280     3  1.0\n",
       "3    0.558  0.442  0.205  0.795  0.617  0.383    10 -1.0\n",
       "4    0.561  0.439  0.157  0.843  0.578  0.422     3  1.0\n",
       "..     ...    ...    ...    ...    ...    ...   ...  ...\n",
       "353  0.552  0.448  0.421  0.579  0.702  0.298   368 -1.0\n",
       "354  0.555  0.445  0.361  0.639  0.638  0.362    28 -1.0\n",
       "355  0.525  0.475  0.275  0.725  0.615  0.385    55  1.0\n",
       "356  0.512  0.488  0.179  0.821  0.666  0.334    10  1.0\n",
       "357  0.461  0.539  0.269  0.731  0.680  0.320   142 -1.0\n",
       "\n",
       "[358 rows x 8 columns]"
      ]
     },
     "execution_count": 5,
     "metadata": {},
     "output_type": "execute_result"
    }
   ],
   "source": [
    "data"
   ]
  },
  {
   "cell_type": "code",
   "execution_count": 6,
   "id": "fbaf925c",
   "metadata": {},
   "outputs": [],
   "source": [
    "from sklearn.model_selection import train_test_split\n",
    "from sklearn.linear_model import LogisticRegression\n",
    "import scikitplot as skplt\n",
    "from sklearn.model_selection import cross_val_score\n",
    "from sklearn.datasets import make_blobs\n",
    "from sklearn.model_selection import RepeatedStratifiedKFold"
   ]
  },
  {
   "cell_type": "code",
   "execution_count": 7,
   "id": "20384c6d",
   "metadata": {},
   "outputs": [],
   "source": [
    "columns = ['SP', 'RP', 'SRP', 'LRP', 'FHP', 'BHP', 'RANK']"
   ]
  },
  {
   "cell_type": "code",
   "execution_count": 8,
   "id": "fa77c19e",
   "metadata": {},
   "outputs": [],
   "source": [
    "X_train, X_test, y_train, y_test = train_test_split(data[columns], data.WON, train_size=0.9)"
   ]
  },
  {
   "cell_type": "code",
   "execution_count": 9,
   "id": "af2b0a12",
   "metadata": {},
   "outputs": [
    {
     "data": {
      "text/plain": [
       "0.6944444444444444"
      ]
     },
     "execution_count": 9,
     "metadata": {},
     "output_type": "execute_result"
    }
   ],
   "source": [
    "model1 = LogisticRegression()\n",
    "model1.fit(X_train, y_train)\n",
    "model1.predict(X_test)\n",
    "model1.score(X_test, y_test)"
   ]
  },
  {
   "cell_type": "code",
   "execution_count": 21,
   "id": "d7e9ac1e",
   "metadata": {},
   "outputs": [],
   "source": [
    "from sklearn.model_selection import RepeatedStratifiedKFold\n",
    "cv = RepeatedStratifiedKFold(n_splits=10, n_repeats=3, random_state=1)"
   ]
  },
  {
   "cell_type": "code",
   "execution_count": 24,
   "id": "9b37b5b5",
   "metadata": {},
   "outputs": [
    {
     "data": {
      "text/plain": [
       "0.5277777777777778"
      ]
     },
     "execution_count": 24,
     "metadata": {},
     "output_type": "execute_result"
    }
   ],
   "source": [
    "from sklearn.ensemble import RandomForestClassifier\n",
    "model = RandomForestClassifier()\n",
    "model.fit(X_train, y_train)\n",
    "model.score(X_test, y_test)"
   ]
  },
  {
   "cell_type": "code",
   "execution_count": 25,
   "id": "f7dc6dc6",
   "metadata": {},
   "outputs": [
    {
     "name": "stdout",
     "output_type": "stream",
     "text": [
      "Cross-Validation Accuracy Scores [0.66666667 0.58333333 0.66666667 0.66666667 0.58333333 0.69444444\n",
      " 0.63888889 0.61111111 0.62857143 0.51428571 0.66666667 0.58333333\n",
      " 0.63888889 0.66666667 0.61111111 0.52777778 0.63888889 0.61111111\n",
      " 0.65714286 0.71428571 0.69444444 0.63888889 0.72222222 0.66666667\n",
      " 0.61111111 0.72222222 0.44444444 0.61111111 0.71428571 0.68571429]\n"
     ]
    },
    {
     "data": {
      "text/plain": [
       "(0.4444444444444444, 0.636031746031746, 0.7222222222222222)"
      ]
     },
     "execution_count": 25,
     "metadata": {},
     "output_type": "execute_result"
    }
   ],
   "source": [
    "from sklearn.model_selection import cross_val_score\n",
    "\n",
    "scores = cross_val_score(model, data[columns], data.WON, cv=cv)\n",
    "print('Cross-Validation Accuracy Scores', scores)\n",
    "scores = pd.Series(scores)\n",
    "scores.min(), scores.mean(), scores.max()"
   ]
  },
  {
   "cell_type": "code",
   "execution_count": 33,
   "id": "db760a36",
   "metadata": {},
   "outputs": [
    {
     "name": "stdout",
     "output_type": "stream",
     "text": [
      "Accuracy: 0.5\n"
     ]
    }
   ],
   "source": [
    "from sklearn import metrics\n",
    "from sklearn import svm\n",
    "clf = svm.SVC(kernel='sigmoid') # Linear Kernel\n",
    "clf.fit(X_train, y_train)\n",
    "y_pred = clf.predict(X_test)\n",
    "print(\"Accuracy:\",metrics.accuracy_score(y_test, y_pred))"
   ]
  },
  {
   "cell_type": "code",
   "execution_count": 34,
   "id": "b80e92da",
   "metadata": {},
   "outputs": [
    {
     "name": "stdout",
     "output_type": "stream",
     "text": [
      "Cross-Validation Accuracy Scores [0.66666667 0.61111111 0.52777778 0.47222222 0.63888889 0.61111111\n",
      " 0.5        0.52777778 0.54285714 0.54285714 0.63888889 0.61111111\n",
      " 0.36111111 0.72222222 0.63888889 0.47222222 0.52777778 0.33333333\n",
      " 0.48571429 0.74285714 0.61111111 0.52777778 0.36111111 0.44444444\n",
      " 0.44444444 0.66666667 0.61111111 0.66666667 0.54285714 0.71428571]\n"
     ]
    },
    {
     "data": {
      "text/plain": [
       "(0.3333333333333333, 0.5588624338624338, 0.7428571428571429)"
      ]
     },
     "execution_count": 34,
     "metadata": {},
     "output_type": "execute_result"
    }
   ],
   "source": [
    "scores = cross_val_score(clf, data[columns], data.WON, cv=cv)\n",
    "print('Cross-Validation Accuracy Scores', scores)\n",
    "scores = pd.Series(scores)\n",
    "scores.min(), scores.mean(), scores.max()"
   ]
  },
  {
   "cell_type": "code",
   "execution_count": 35,
   "id": "882365a1",
   "metadata": {},
   "outputs": [],
   "source": [
    "from sklearn.neural_network import MLPClassifier\n",
    "\n",
    "#Initializing the MLPClassifier\n",
    "classifier = MLPClassifier()\n",
    "classifier.fit(X_train, y_train)\n",
    "y_pred = classifier.predict(X_test)\n",
    "from sklearn.metrics import confusion_matrix\n",
    "#Comparing the predictions against the actual observations in y_val\n",
    "cm = confusion_matrix(y_pred, y_test)"
   ]
  },
  {
   "cell_type": "code",
   "execution_count": 36,
   "id": "2f7fecb7",
   "metadata": {},
   "outputs": [
    {
     "name": "stderr",
     "output_type": "stream",
     "text": [
      "/Users/sophiechiang/opt/anaconda3/lib/python3.8/site-packages/sklearn/neural_network/_multilayer_perceptron.py:614: ConvergenceWarning: Stochastic Optimizer: Maximum iterations (200) reached and the optimization hasn't converged yet.\n",
      "  warnings.warn(\n",
      "/Users/sophiechiang/opt/anaconda3/lib/python3.8/site-packages/sklearn/neural_network/_multilayer_perceptron.py:614: ConvergenceWarning: Stochastic Optimizer: Maximum iterations (200) reached and the optimization hasn't converged yet.\n",
      "  warnings.warn(\n"
     ]
    },
    {
     "name": "stdout",
     "output_type": "stream",
     "text": [
      "Cross-Validation Accuracy Scores [0.69444444 0.66666667 0.69444444 0.63888889 0.66666667 0.66666667\n",
      " 0.52777778 0.5        0.65714286 0.54285714 0.61111111 0.61111111\n",
      " 0.58333333 0.75       0.72222222 0.55555556 0.5        0.63888889\n",
      " 0.57142857 0.71428571 0.75       0.55555556 0.52777778 0.75\n",
      " 0.5        0.75       0.52777778 0.58333333 0.68571429 0.68571429]\n"
     ]
    },
    {
     "data": {
      "text/plain": [
       "(0.5, 0.6276455026455027, 0.75)"
      ]
     },
     "execution_count": 36,
     "metadata": {},
     "output_type": "execute_result"
    }
   ],
   "source": [
    "scores = cross_val_score(classifier, data[columns], data.WON, cv=cv)\n",
    "print('Cross-Validation Accuracy Scores', scores)\n",
    "scores = pd.Series(scores)\n",
    "scores.min(), scores.mean(), scores.max()"
   ]
  },
  {
   "cell_type": "code",
   "execution_count": null,
   "id": "11c4dd4b",
   "metadata": {},
   "outputs": [],
   "source": []
  }
 ],
 "metadata": {
  "kernelspec": {
   "display_name": "Python 3",
   "language": "python",
   "name": "python3"
  },
  "language_info": {
   "codemirror_mode": {
    "name": "ipython",
    "version": 3
   },
   "file_extension": ".py",
   "mimetype": "text/x-python",
   "name": "python",
   "nbconvert_exporter": "python",
   "pygments_lexer": "ipython3",
   "version": "3.8.8"
  }
 },
 "nbformat": 4,
 "nbformat_minor": 5
}
