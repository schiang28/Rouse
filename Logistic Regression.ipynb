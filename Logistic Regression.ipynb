{
 "cells": [
  {
   "cell_type": "code",
   "execution_count": 1,
   "id": "dba90610",
   "metadata": {},
   "outputs": [],
   "source": [
    "import numpy as np\n",
    "import pandas as pd\n",
    "import matplotlib.pyplot as plt\n",
    "import seaborn as sns"
   ]
  },
  {
   "cell_type": "code",
   "execution_count": 5,
   "id": "a33383c9",
   "metadata": {},
   "outputs": [],
   "source": [
    "from sklearn.model_selection import train_test_split\n",
    "from sklearn.linear_model import LogisticRegression\n",
    "import scikitplot as skplt\n",
    "from sklearn.model_selection import cross_val_score\n",
    "from sklearn.datasets import make_blobs\n",
    "from sklearn.model_selection import RepeatedStratifiedKFold\n",
    "from sklearn.model_selection import GridSearchCV"
   ]
  },
  {
   "cell_type": "code",
   "execution_count": 2,
   "id": "84c3c0ef",
   "metadata": {},
   "outputs": [],
   "source": [
    "data = pd.read_csv('data_scaled.csv')"
   ]
  },
  {
   "cell_type": "code",
   "execution_count": 3,
   "id": "84b27f64",
   "metadata": {},
   "outputs": [
    {
     "data": {
      "text/html": [
       "<div>\n",
       "<style scoped>\n",
       "    .dataframe tbody tr th:only-of-type {\n",
       "        vertical-align: middle;\n",
       "    }\n",
       "\n",
       "    .dataframe tbody tr th {\n",
       "        vertical-align: top;\n",
       "    }\n",
       "\n",
       "    .dataframe thead th {\n",
       "        text-align: right;\n",
       "    }\n",
       "</style>\n",
       "<table border=\"1\" class=\"dataframe\">\n",
       "  <thead>\n",
       "    <tr style=\"text-align: right;\">\n",
       "      <th></th>\n",
       "      <th>SP</th>\n",
       "      <th>RP</th>\n",
       "      <th>SRP</th>\n",
       "      <th>LRP</th>\n",
       "      <th>FHP</th>\n",
       "      <th>BHP</th>\n",
       "      <th>RANK</th>\n",
       "      <th>RANKDIFF</th>\n",
       "      <th>SA</th>\n",
       "      <th>SRA</th>\n",
       "      <th>FHA</th>\n",
       "      <th>BALANCE</th>\n",
       "      <th>WON</th>\n",
       "    </tr>\n",
       "  </thead>\n",
       "  <tbody>\n",
       "    <tr>\n",
       "      <th>0</th>\n",
       "      <td>0.600</td>\n",
       "      <td>0.400</td>\n",
       "      <td>0.244</td>\n",
       "      <td>0.756</td>\n",
       "      <td>0.511</td>\n",
       "      <td>0.489</td>\n",
       "      <td>1</td>\n",
       "      <td>-0.062078</td>\n",
       "      <td>0.200</td>\n",
       "      <td>-0.512</td>\n",
       "      <td>0.022</td>\n",
       "      <td>0.353155</td>\n",
       "      <td>1.0</td>\n",
       "    </tr>\n",
       "    <tr>\n",
       "      <th>1</th>\n",
       "      <td>0.666</td>\n",
       "      <td>0.334</td>\n",
       "      <td>0.194</td>\n",
       "      <td>0.806</td>\n",
       "      <td>0.171</td>\n",
       "      <td>0.829</td>\n",
       "      <td>12</td>\n",
       "      <td>0.062078</td>\n",
       "      <td>0.332</td>\n",
       "      <td>-0.612</td>\n",
       "      <td>-0.658</td>\n",
       "      <td>0.879854</td>\n",
       "      <td>-1.0</td>\n",
       "    </tr>\n",
       "    <tr>\n",
       "      <th>2</th>\n",
       "      <td>0.522</td>\n",
       "      <td>0.478</td>\n",
       "      <td>0.295</td>\n",
       "      <td>0.705</td>\n",
       "      <td>0.720</td>\n",
       "      <td>0.280</td>\n",
       "      <td>3</td>\n",
       "      <td>-0.039504</td>\n",
       "      <td>0.044</td>\n",
       "      <td>-0.410</td>\n",
       "      <td>0.440</td>\n",
       "      <td>0.450243</td>\n",
       "      <td>1.0</td>\n",
       "    </tr>\n",
       "    <tr>\n",
       "      <th>3</th>\n",
       "      <td>0.558</td>\n",
       "      <td>0.442</td>\n",
       "      <td>0.205</td>\n",
       "      <td>0.795</td>\n",
       "      <td>0.617</td>\n",
       "      <td>0.383</td>\n",
       "      <td>10</td>\n",
       "      <td>0.039504</td>\n",
       "      <td>0.116</td>\n",
       "      <td>-0.590</td>\n",
       "      <td>0.234</td>\n",
       "      <td>0.478155</td>\n",
       "      <td>-1.0</td>\n",
       "    </tr>\n",
       "    <tr>\n",
       "      <th>4</th>\n",
       "      <td>0.561</td>\n",
       "      <td>0.439</td>\n",
       "      <td>0.157</td>\n",
       "      <td>0.843</td>\n",
       "      <td>0.578</td>\n",
       "      <td>0.422</td>\n",
       "      <td>3</td>\n",
       "      <td>0.011287</td>\n",
       "      <td>0.122</td>\n",
       "      <td>-0.686</td>\n",
       "      <td>0.156</td>\n",
       "      <td>0.492718</td>\n",
       "      <td>1.0</td>\n",
       "    </tr>\n",
       "    <tr>\n",
       "      <th>...</th>\n",
       "      <td>...</td>\n",
       "      <td>...</td>\n",
       "      <td>...</td>\n",
       "      <td>...</td>\n",
       "      <td>...</td>\n",
       "      <td>...</td>\n",
       "      <td>...</td>\n",
       "      <td>...</td>\n",
       "      <td>...</td>\n",
       "      <td>...</td>\n",
       "      <td>...</td>\n",
       "      <td>...</td>\n",
       "      <td>...</td>\n",
       "    </tr>\n",
       "    <tr>\n",
       "      <th>353</th>\n",
       "      <td>0.552</td>\n",
       "      <td>0.448</td>\n",
       "      <td>0.421</td>\n",
       "      <td>0.579</td>\n",
       "      <td>0.702</td>\n",
       "      <td>0.298</td>\n",
       "      <td>368</td>\n",
       "      <td>2.020364</td>\n",
       "      <td>0.104</td>\n",
       "      <td>-0.158</td>\n",
       "      <td>0.404</td>\n",
       "      <td>0.311893</td>\n",
       "      <td>-1.0</td>\n",
       "    </tr>\n",
       "    <tr>\n",
       "      <th>354</th>\n",
       "      <td>0.555</td>\n",
       "      <td>0.445</td>\n",
       "      <td>0.361</td>\n",
       "      <td>0.639</td>\n",
       "      <td>0.638</td>\n",
       "      <td>0.362</td>\n",
       "      <td>28</td>\n",
       "      <td>-0.152374</td>\n",
       "      <td>0.110</td>\n",
       "      <td>-0.278</td>\n",
       "      <td>0.276</td>\n",
       "      <td>0.310680</td>\n",
       "      <td>-1.0</td>\n",
       "    </tr>\n",
       "    <tr>\n",
       "      <th>355</th>\n",
       "      <td>0.525</td>\n",
       "      <td>0.475</td>\n",
       "      <td>0.275</td>\n",
       "      <td>0.725</td>\n",
       "      <td>0.615</td>\n",
       "      <td>0.385</td>\n",
       "      <td>55</td>\n",
       "      <td>0.152374</td>\n",
       "      <td>0.050</td>\n",
       "      <td>-0.450</td>\n",
       "      <td>0.230</td>\n",
       "      <td>0.350728</td>\n",
       "      <td>1.0</td>\n",
       "    </tr>\n",
       "    <tr>\n",
       "      <th>356</th>\n",
       "      <td>0.512</td>\n",
       "      <td>0.488</td>\n",
       "      <td>0.179</td>\n",
       "      <td>0.821</td>\n",
       "      <td>0.666</td>\n",
       "      <td>0.334</td>\n",
       "      <td>10</td>\n",
       "      <td>-0.744939</td>\n",
       "      <td>0.024</td>\n",
       "      <td>-0.642</td>\n",
       "      <td>0.332</td>\n",
       "      <td>0.513350</td>\n",
       "      <td>1.0</td>\n",
       "    </tr>\n",
       "    <tr>\n",
       "      <th>357</th>\n",
       "      <td>0.461</td>\n",
       "      <td>0.539</td>\n",
       "      <td>0.269</td>\n",
       "      <td>0.731</td>\n",
       "      <td>0.680</td>\n",
       "      <td>0.320</td>\n",
       "      <td>142</td>\n",
       "      <td>0.744939</td>\n",
       "      <td>-0.078</td>\n",
       "      <td>-0.462</td>\n",
       "      <td>0.360</td>\n",
       "      <td>0.453883</td>\n",
       "      <td>-1.0</td>\n",
       "    </tr>\n",
       "  </tbody>\n",
       "</table>\n",
       "<p>358 rows × 13 columns</p>\n",
       "</div>"
      ],
      "text/plain": [
       "        SP     RP    SRP    LRP    FHP    BHP  RANK  RANKDIFF     SA    SRA  \\\n",
       "0    0.600  0.400  0.244  0.756  0.511  0.489     1 -0.062078  0.200 -0.512   \n",
       "1    0.666  0.334  0.194  0.806  0.171  0.829    12  0.062078  0.332 -0.612   \n",
       "2    0.522  0.478  0.295  0.705  0.720  0.280     3 -0.039504  0.044 -0.410   \n",
       "3    0.558  0.442  0.205  0.795  0.617  0.383    10  0.039504  0.116 -0.590   \n",
       "4    0.561  0.439  0.157  0.843  0.578  0.422     3  0.011287  0.122 -0.686   \n",
       "..     ...    ...    ...    ...    ...    ...   ...       ...    ...    ...   \n",
       "353  0.552  0.448  0.421  0.579  0.702  0.298   368  2.020364  0.104 -0.158   \n",
       "354  0.555  0.445  0.361  0.639  0.638  0.362    28 -0.152374  0.110 -0.278   \n",
       "355  0.525  0.475  0.275  0.725  0.615  0.385    55  0.152374  0.050 -0.450   \n",
       "356  0.512  0.488  0.179  0.821  0.666  0.334    10 -0.744939  0.024 -0.642   \n",
       "357  0.461  0.539  0.269  0.731  0.680  0.320   142  0.744939 -0.078 -0.462   \n",
       "\n",
       "       FHA   BALANCE  WON  \n",
       "0    0.022  0.353155  1.0  \n",
       "1   -0.658  0.879854 -1.0  \n",
       "2    0.440  0.450243  1.0  \n",
       "3    0.234  0.478155 -1.0  \n",
       "4    0.156  0.492718  1.0  \n",
       "..     ...       ...  ...  \n",
       "353  0.404  0.311893 -1.0  \n",
       "354  0.276  0.310680 -1.0  \n",
       "355  0.230  0.350728  1.0  \n",
       "356  0.332  0.513350  1.0  \n",
       "357  0.360  0.453883 -1.0  \n",
       "\n",
       "[358 rows x 13 columns]"
      ]
     },
     "execution_count": 3,
     "metadata": {},
     "output_type": "execute_result"
    }
   ],
   "source": [
    "data"
   ]
  },
  {
   "cell_type": "code",
   "execution_count": 4,
   "id": "09a554de",
   "metadata": {},
   "outputs": [],
   "source": [
    "columns = ['SP', 'RP', 'SRP', 'LRP', 'FHP', 'BHP', 'RANKDIFF', 'SA', 'SRA', 'FHA', 'BALANCE']"
   ]
  },
  {
   "cell_type": "code",
   "execution_count": 6,
   "id": "3bbea5ef",
   "metadata": {},
   "outputs": [],
   "source": [
    "X_train, X_test, y_train, y_test = train_test_split(data[columns], data.WON, train_size=0.9)"
   ]
  },
  {
   "cell_type": "code",
   "execution_count": 13,
   "id": "dfbc93bd",
   "metadata": {},
   "outputs": [
    {
     "data": {
      "text/plain": [
       "0.7222222222222222"
      ]
     },
     "execution_count": 13,
     "metadata": {},
     "output_type": "execute_result"
    }
   ],
   "source": [
    "model1 = LogisticRegression()\n",
    "model1.fit(X_train, y_train)\n",
    "model1.predict(X_test)\n",
    "model1.score(X_test, y_test)"
   ]
  },
  {
   "cell_type": "code",
   "execution_count": 11,
   "id": "ae6a7e1d",
   "metadata": {},
   "outputs": [
    {
     "data": {
      "text/plain": [
       "{'C': 1.0,\n",
       " 'class_weight': None,\n",
       " 'dual': False,\n",
       " 'fit_intercept': True,\n",
       " 'intercept_scaling': 1,\n",
       " 'l1_ratio': None,\n",
       " 'max_iter': 100,\n",
       " 'multi_class': 'auto',\n",
       " 'n_jobs': None,\n",
       " 'penalty': 'l2',\n",
       " 'random_state': None,\n",
       " 'solver': 'lbfgs',\n",
       " 'tol': 0.0001,\n",
       " 'verbose': 0,\n",
       " 'warm_start': False}"
      ]
     },
     "execution_count": 11,
     "metadata": {},
     "output_type": "execute_result"
    }
   ],
   "source": [
    "model1.get_params()"
   ]
  },
  {
   "cell_type": "code",
   "execution_count": 19,
   "id": "7db46a30",
   "metadata": {},
   "outputs": [
    {
     "data": {
      "text/plain": [
       "0.6666666666666666"
      ]
     },
     "execution_count": 19,
     "metadata": {},
     "output_type": "execute_result"
    }
   ],
   "source": [
    "model2 = LogisticRegression(C=0.1, solver='newton-cg')\n",
    "model2.fit(X_train, y_train)\n",
    "model2.predict(X_test)\n",
    "model2.score(X_test, y_test)"
   ]
  },
  {
   "cell_type": "code",
   "execution_count": 44,
   "id": "252be871",
   "metadata": {},
   "outputs": [],
   "source": [
    "solvers = ['newton-cg', 'lbfgs', 'liblinear']\n",
    "penalty = ['l2']\n",
    "c_values = [100, 10, 1.0, 0.1, 0.01]\n",
    "c_values = np.linspace(0.5,0.8,10)"
   ]
  },
  {
   "cell_type": "code",
   "execution_count": 45,
   "id": "eedb521e",
   "metadata": {},
   "outputs": [
    {
     "name": "stdout",
     "output_type": "stream",
     "text": [
      "Best: 0.696402 using {'C': 0.6, 'penalty': 'l2', 'solver': 'newton-cg'}\n",
      "0.693598 (0.070168) with: {'C': 0.5, 'penalty': 'l2', 'solver': 'newton-cg'}\n",
      "0.693598 (0.070168) with: {'C': 0.5, 'penalty': 'l2', 'solver': 'lbfgs'}\n",
      "0.691746 (0.072289) with: {'C': 0.5, 'penalty': 'l2', 'solver': 'liblinear'}\n",
      "0.694550 (0.070635) with: {'C': 0.5333333333333333, 'penalty': 'l2', 'solver': 'newton-cg'}\n",
      "0.694550 (0.070635) with: {'C': 0.5333333333333333, 'penalty': 'l2', 'solver': 'lbfgs'}\n",
      "0.693624 (0.072605) with: {'C': 0.5333333333333333, 'penalty': 'l2', 'solver': 'liblinear'}\n",
      "0.696402 (0.074161) with: {'C': 0.5666666666666667, 'penalty': 'l2', 'solver': 'newton-cg'}\n",
      "0.696402 (0.074161) with: {'C': 0.5666666666666667, 'penalty': 'l2', 'solver': 'lbfgs'}\n",
      "0.695476 (0.071891) with: {'C': 0.5666666666666667, 'penalty': 'l2', 'solver': 'liblinear'}\n",
      "0.696402 (0.073113) with: {'C': 0.6, 'penalty': 'l2', 'solver': 'newton-cg'}\n",
      "0.696402 (0.073113) with: {'C': 0.6, 'penalty': 'l2', 'solver': 'lbfgs'}\n",
      "0.693598 (0.073373) with: {'C': 0.6, 'penalty': 'l2', 'solver': 'liblinear'}\n",
      "0.696402 (0.070544) with: {'C': 0.6333333333333333, 'penalty': 'l2', 'solver': 'newton-cg'}\n",
      "0.696402 (0.070544) with: {'C': 0.6333333333333333, 'penalty': 'l2', 'solver': 'lbfgs'}\n",
      "0.695476 (0.072895) with: {'C': 0.6333333333333333, 'penalty': 'l2', 'solver': 'liblinear'}\n",
      "0.695450 (0.071257) with: {'C': 0.6666666666666667, 'penalty': 'l2', 'solver': 'newton-cg'}\n",
      "0.695450 (0.071257) with: {'C': 0.6666666666666667, 'penalty': 'l2', 'solver': 'lbfgs'}\n",
      "0.695476 (0.072895) with: {'C': 0.6666666666666667, 'penalty': 'l2', 'solver': 'liblinear'}\n",
      "0.695450 (0.071257) with: {'C': 0.7000000000000001, 'penalty': 'l2', 'solver': 'newton-cg'}\n",
      "0.695450 (0.071257) with: {'C': 0.7000000000000001, 'penalty': 'l2', 'solver': 'lbfgs'}\n",
      "0.693598 (0.073393) with: {'C': 0.7000000000000001, 'penalty': 'l2', 'solver': 'liblinear'}\n",
      "0.693598 (0.073393) with: {'C': 0.7333333333333334, 'penalty': 'l2', 'solver': 'newton-cg'}\n",
      "0.693598 (0.073393) with: {'C': 0.7333333333333334, 'penalty': 'l2', 'solver': 'lbfgs'}\n",
      "0.693598 (0.073393) with: {'C': 0.7333333333333334, 'penalty': 'l2', 'solver': 'liblinear'}\n",
      "0.693598 (0.073393) with: {'C': 0.7666666666666667, 'penalty': 'l2', 'solver': 'newton-cg'}\n",
      "0.693598 (0.073393) with: {'C': 0.7666666666666667, 'penalty': 'l2', 'solver': 'lbfgs'}\n",
      "0.693598 (0.073393) with: {'C': 0.7666666666666667, 'penalty': 'l2', 'solver': 'liblinear'}\n",
      "0.692672 (0.074248) with: {'C': 0.8, 'penalty': 'l2', 'solver': 'newton-cg'}\n",
      "0.692672 (0.074248) with: {'C': 0.8, 'penalty': 'l2', 'solver': 'lbfgs'}\n",
      "0.692672 (0.074248) with: {'C': 0.8, 'penalty': 'l2', 'solver': 'liblinear'}\n"
     ]
    }
   ],
   "source": [
    "grid = dict(solver=solvers,penalty=penalty,C=c_values)\n",
    "cv = RepeatedStratifiedKFold(n_splits=10, n_repeats=3, random_state=1)\n",
    "grid_search = GridSearchCV(estimator=LogisticRegression(), param_grid=grid, n_jobs=-1, cv=cv, scoring='accuracy',error_score=0)\n",
    "grid_result = grid_search.fit(data[columns], data.WON)\n",
    "\n",
    "print(\"Best: %f using %s\" % (grid_result.best_score_, grid_result.best_params_))\n",
    "means = grid_result.cv_results_['mean_test_score']\n",
    "stds = grid_result.cv_results_['std_test_score']\n",
    "params = grid_result.cv_results_['params']\n",
    "for mean, stdev, param in zip(means, stds, params):\n",
    "    print(\"%f (%f) with: %r\" % (mean, stdev, param))"
   ]
  },
  {
   "cell_type": "code",
   "execution_count": 42,
   "id": "521d614b",
   "metadata": {},
   "outputs": [],
   "source": [
    "solvers = ['saga', 'liblinear']\n",
    "penalty = ['l1']\n",
    "c_values = [100, 10, 1.0, 0.1, 0.01]"
   ]
  },
  {
   "cell_type": "code",
   "execution_count": 43,
   "id": "44a02ab2",
   "metadata": {},
   "outputs": [
    {
     "name": "stdout",
     "output_type": "stream",
     "text": [
      "Best: 0.687222 using {'C': 0.1, 'penalty': 'l1', 'solver': 'liblinear'}\n",
      "0.682275 (0.082664) with: {'C': 100, 'penalty': 'l1', 'solver': 'saga'}\n",
      "0.682275 (0.082664) with: {'C': 100, 'penalty': 'l1', 'solver': 'liblinear'}\n",
      "0.685952 (0.088071) with: {'C': 10, 'penalty': 'l1', 'solver': 'saga'}\n",
      "0.685979 (0.085865) with: {'C': 10, 'penalty': 'l1', 'solver': 'liblinear'}\n",
      "0.684365 (0.063005) with: {'C': 1.0, 'penalty': 'l1', 'solver': 'saga'}\n",
      "0.684365 (0.071167) with: {'C': 1.0, 'penalty': 'l1', 'solver': 'liblinear'}\n",
      "0.675979 (0.075528) with: {'C': 0.1, 'penalty': 'l1', 'solver': 'saga'}\n",
      "0.687222 (0.075818) with: {'C': 0.1, 'penalty': 'l1', 'solver': 'liblinear'}\n",
      "0.500952 (0.006317) with: {'C': 0.01, 'penalty': 'l1', 'solver': 'saga'}\n",
      "0.500000 (0.006389) with: {'C': 0.01, 'penalty': 'l1', 'solver': 'liblinear'}\n"
     ]
    }
   ],
   "source": [
    "grid = dict(solver=solvers,penalty=penalty,C=c_values)\n",
    "cv = RepeatedStratifiedKFold(n_splits=10, n_repeats=3, random_state=1)\n",
    "grid_search = GridSearchCV(estimator=LogisticRegression(), param_grid=grid, n_jobs=-1, cv=cv, scoring='accuracy',error_score=0)\n",
    "grid_result = grid_search.fit(data[columns], data.WON)\n",
    "\n",
    "print(\"Best: %f using %s\" % (grid_result.best_score_, grid_result.best_params_))\n",
    "means = grid_result.cv_results_['mean_test_score']\n",
    "stds = grid_result.cv_results_['std_test_score']\n",
    "params = grid_result.cv_results_['params']\n",
    "for mean, stdev, param in zip(means, stds, params):\n",
    "    print(\"%f (%f) with: %r\" % (mean, stdev, param))"
   ]
  },
  {
   "cell_type": "code",
   "execution_count": 46,
   "id": "a31d6dc1",
   "metadata": {},
   "outputs": [
    {
     "data": {
      "text/plain": [
       "LogisticRegression(C=0.6, solver='newton-cg')"
      ]
     },
     "execution_count": 46,
     "metadata": {},
     "output_type": "execute_result"
    }
   ],
   "source": [
    "grid_result.best_estimator_"
   ]
  },
  {
   "cell_type": "code",
   "execution_count": 50,
   "id": "a2f6e72e",
   "metadata": {},
   "outputs": [
    {
     "data": {
      "image/png": "[encoded data removed]",
      "text/plain": [
       "<Figure size 432x288 with 1 Axes>"
      ]
     },
     "metadata": {
      "needs_background": "light"
     },
     "output_type": "display_data"
    }
   ],
   "source": [
    "skplt.estimators.plot_learning_curve(grid_result.best_estimator_, data[columns], data.WON,\n",
    "                                     cv=cv, shuffle=True, scoring=\"accuracy\",\n",
    "                                     n_jobs=-1, figsize=(6,4), title_fontsize=\"large\", text_fontsize=\"large\",\n",
    "                                     title=\"Logistic Regression Learning Curve\");\n",
    "plt.savefig('Logistic Regression LC F', dpi=300)"
   ]
  },
  {
   "cell_type": "code",
   "execution_count": null,
   "id": "d4e2f4f0",
   "metadata": {},
   "outputs": [],
   "source": []
  }
 ],
 "metadata": {
  "kernelspec": {
   "display_name": "Python 3",
   "language": "python",
   "name": "python3"
  },
  "language_info": {
   "codemirror_mode": {
    "name": "ipython",
    "version": 3
   },
   "file_extension": ".py",
   "mimetype": "text/x-python",
   "name": "python",
   "nbconvert_exporter": "python",
   "pygments_lexer": "ipython3",
   "version": "3.8.8"
  }
 },
 "nbformat": 4,
 "nbformat_minor": 5
}
