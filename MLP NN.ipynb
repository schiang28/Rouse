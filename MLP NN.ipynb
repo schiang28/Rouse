{
 "cells": [
  {
   "cell_type": "raw",
   "id": "5c024f81",
   "metadata": {},
   "source": [
    "import numpy as np\n",
    "import pandas as pd\n",
    "import seaborn as sns\n",
    "import matplotlib.pyplot as plt"
   ]
  },
  {
   "cell_type": "code",
   "execution_count": 71,
   "id": "cf252610",
   "metadata": {},
   "outputs": [
    {
     "data": {
      "text/html": [
       "<div>\n",
       "<style scoped>\n",
       "    .dataframe tbody tr th:only-of-type {\n",
       "        vertical-align: middle;\n",
       "    }\n",
       "\n",
       "    .dataframe tbody tr th {\n",
       "        vertical-align: top;\n",
       "    }\n",
       "\n",
       "    .dataframe thead th {\n",
       "        text-align: right;\n",
       "    }\n",
       "</style>\n",
       "<table border=\"1\" class=\"dataframe\">\n",
       "  <thead>\n",
       "    <tr style=\"text-align: right;\">\n",
       "      <th></th>\n",
       "      <th>SP</th>\n",
       "      <th>RP</th>\n",
       "      <th>SRP</th>\n",
       "      <th>LRP</th>\n",
       "      <th>FHP</th>\n",
       "      <th>BHP</th>\n",
       "      <th>RANK</th>\n",
       "      <th>RANKDIFF</th>\n",
       "      <th>SA</th>\n",
       "      <th>SRA</th>\n",
       "      <th>FHA</th>\n",
       "      <th>BALANCE</th>\n",
       "      <th>WON</th>\n",
       "    </tr>\n",
       "  </thead>\n",
       "  <tbody>\n",
       "    <tr>\n",
       "      <th>0</th>\n",
       "      <td>0.600</td>\n",
       "      <td>0.400</td>\n",
       "      <td>0.244</td>\n",
       "      <td>0.756</td>\n",
       "      <td>0.511</td>\n",
       "      <td>0.489</td>\n",
       "      <td>1</td>\n",
       "      <td>-0.062078</td>\n",
       "      <td>0.200</td>\n",
       "      <td>-0.512</td>\n",
       "      <td>0.022</td>\n",
       "      <td>0.353155</td>\n",
       "      <td>1.0</td>\n",
       "    </tr>\n",
       "    <tr>\n",
       "      <th>1</th>\n",
       "      <td>0.666</td>\n",
       "      <td>0.334</td>\n",
       "      <td>0.194</td>\n",
       "      <td>0.806</td>\n",
       "      <td>0.171</td>\n",
       "      <td>0.829</td>\n",
       "      <td>12</td>\n",
       "      <td>0.062078</td>\n",
       "      <td>0.332</td>\n",
       "      <td>-0.612</td>\n",
       "      <td>-0.658</td>\n",
       "      <td>0.879854</td>\n",
       "      <td>-1.0</td>\n",
       "    </tr>\n",
       "    <tr>\n",
       "      <th>2</th>\n",
       "      <td>0.522</td>\n",
       "      <td>0.478</td>\n",
       "      <td>0.295</td>\n",
       "      <td>0.705</td>\n",
       "      <td>0.720</td>\n",
       "      <td>0.280</td>\n",
       "      <td>3</td>\n",
       "      <td>-0.039504</td>\n",
       "      <td>0.044</td>\n",
       "      <td>-0.410</td>\n",
       "      <td>0.440</td>\n",
       "      <td>0.450243</td>\n",
       "      <td>1.0</td>\n",
       "    </tr>\n",
       "    <tr>\n",
       "      <th>3</th>\n",
       "      <td>0.558</td>\n",
       "      <td>0.442</td>\n",
       "      <td>0.205</td>\n",
       "      <td>0.795</td>\n",
       "      <td>0.617</td>\n",
       "      <td>0.383</td>\n",
       "      <td>10</td>\n",
       "      <td>0.039504</td>\n",
       "      <td>0.116</td>\n",
       "      <td>-0.590</td>\n",
       "      <td>0.234</td>\n",
       "      <td>0.478155</td>\n",
       "      <td>-1.0</td>\n",
       "    </tr>\n",
       "    <tr>\n",
       "      <th>4</th>\n",
       "      <td>0.561</td>\n",
       "      <td>0.439</td>\n",
       "      <td>0.157</td>\n",
       "      <td>0.843</td>\n",
       "      <td>0.578</td>\n",
       "      <td>0.422</td>\n",
       "      <td>3</td>\n",
       "      <td>0.011287</td>\n",
       "      <td>0.122</td>\n",
       "      <td>-0.686</td>\n",
       "      <td>0.156</td>\n",
       "      <td>0.492718</td>\n",
       "      <td>1.0</td>\n",
       "    </tr>\n",
       "    <tr>\n",
       "      <th>...</th>\n",
       "      <td>...</td>\n",
       "      <td>...</td>\n",
       "      <td>...</td>\n",
       "      <td>...</td>\n",
       "      <td>...</td>\n",
       "      <td>...</td>\n",
       "      <td>...</td>\n",
       "      <td>...</td>\n",
       "      <td>...</td>\n",
       "      <td>...</td>\n",
       "      <td>...</td>\n",
       "      <td>...</td>\n",
       "      <td>...</td>\n",
       "    </tr>\n",
       "    <tr>\n",
       "      <th>353</th>\n",
       "      <td>0.552</td>\n",
       "      <td>0.448</td>\n",
       "      <td>0.421</td>\n",
       "      <td>0.579</td>\n",
       "      <td>0.702</td>\n",
       "      <td>0.298</td>\n",
       "      <td>368</td>\n",
       "      <td>2.020364</td>\n",
       "      <td>0.104</td>\n",
       "      <td>-0.158</td>\n",
       "      <td>0.404</td>\n",
       "      <td>0.311893</td>\n",
       "      <td>-1.0</td>\n",
       "    </tr>\n",
       "    <tr>\n",
       "      <th>354</th>\n",
       "      <td>0.555</td>\n",
       "      <td>0.445</td>\n",
       "      <td>0.361</td>\n",
       "      <td>0.639</td>\n",
       "      <td>0.638</td>\n",
       "      <td>0.362</td>\n",
       "      <td>28</td>\n",
       "      <td>-0.152374</td>\n",
       "      <td>0.110</td>\n",
       "      <td>-0.278</td>\n",
       "      <td>0.276</td>\n",
       "      <td>0.310680</td>\n",
       "      <td>-1.0</td>\n",
       "    </tr>\n",
       "    <tr>\n",
       "      <th>355</th>\n",
       "      <td>0.525</td>\n",
       "      <td>0.475</td>\n",
       "      <td>0.275</td>\n",
       "      <td>0.725</td>\n",
       "      <td>0.615</td>\n",
       "      <td>0.385</td>\n",
       "      <td>55</td>\n",
       "      <td>0.152374</td>\n",
       "      <td>0.050</td>\n",
       "      <td>-0.450</td>\n",
       "      <td>0.230</td>\n",
       "      <td>0.350728</td>\n",
       "      <td>1.0</td>\n",
       "    </tr>\n",
       "    <tr>\n",
       "      <th>356</th>\n",
       "      <td>0.512</td>\n",
       "      <td>0.488</td>\n",
       "      <td>0.179</td>\n",
       "      <td>0.821</td>\n",
       "      <td>0.666</td>\n",
       "      <td>0.334</td>\n",
       "      <td>10</td>\n",
       "      <td>-0.744939</td>\n",
       "      <td>0.024</td>\n",
       "      <td>-0.642</td>\n",
       "      <td>0.332</td>\n",
       "      <td>0.513350</td>\n",
       "      <td>1.0</td>\n",
       "    </tr>\n",
       "    <tr>\n",
       "      <th>357</th>\n",
       "      <td>0.461</td>\n",
       "      <td>0.539</td>\n",
       "      <td>0.269</td>\n",
       "      <td>0.731</td>\n",
       "      <td>0.680</td>\n",
       "      <td>0.320</td>\n",
       "      <td>142</td>\n",
       "      <td>0.744939</td>\n",
       "      <td>-0.078</td>\n",
       "      <td>-0.462</td>\n",
       "      <td>0.360</td>\n",
       "      <td>0.453883</td>\n",
       "      <td>-1.0</td>\n",
       "    </tr>\n",
       "  </tbody>\n",
       "</table>\n",
       "<p>358 rows × 13 columns</p>\n",
       "</div>"
      ],
      "text/plain": [
       "        SP     RP    SRP    LRP    FHP    BHP  RANK  RANKDIFF     SA    SRA  \\\n",
       "0    0.600  0.400  0.244  0.756  0.511  0.489     1 -0.062078  0.200 -0.512   \n",
       "1    0.666  0.334  0.194  0.806  0.171  0.829    12  0.062078  0.332 -0.612   \n",
       "2    0.522  0.478  0.295  0.705  0.720  0.280     3 -0.039504  0.044 -0.410   \n",
       "3    0.558  0.442  0.205  0.795  0.617  0.383    10  0.039504  0.116 -0.590   \n",
       "4    0.561  0.439  0.157  0.843  0.578  0.422     3  0.011287  0.122 -0.686   \n",
       "..     ...    ...    ...    ...    ...    ...   ...       ...    ...    ...   \n",
       "353  0.552  0.448  0.421  0.579  0.702  0.298   368  2.020364  0.104 -0.158   \n",
       "354  0.555  0.445  0.361  0.639  0.638  0.362    28 -0.152374  0.110 -0.278   \n",
       "355  0.525  0.475  0.275  0.725  0.615  0.385    55  0.152374  0.050 -0.450   \n",
       "356  0.512  0.488  0.179  0.821  0.666  0.334    10 -0.744939  0.024 -0.642   \n",
       "357  0.461  0.539  0.269  0.731  0.680  0.320   142  0.744939 -0.078 -0.462   \n",
       "\n",
       "       FHA   BALANCE  WON  \n",
       "0    0.022  0.353155  1.0  \n",
       "1   -0.658  0.879854 -1.0  \n",
       "2    0.440  0.450243  1.0  \n",
       "3    0.234  0.478155 -1.0  \n",
       "4    0.156  0.492718  1.0  \n",
       "..     ...       ...  ...  \n",
       "353  0.404  0.311893 -1.0  \n",
       "354  0.276  0.310680 -1.0  \n",
       "355  0.230  0.350728  1.0  \n",
       "356  0.332  0.513350  1.0  \n",
       "357  0.360  0.453883 -1.0  \n",
       "\n",
       "[358 rows x 13 columns]"
      ]
     },
     "execution_count": 71,
     "metadata": {},
     "output_type": "execute_result"
    }
   ],
   "source": [
    "data = pd.read_csv('data_scaled.csv')\n",
    "data"
   ]
  },
  {
   "cell_type": "code",
   "execution_count": 67,
   "id": "cfa8ae7a",
   "metadata": {},
   "outputs": [],
   "source": [
    "columns = ['SP', 'RP', 'SRP', 'LRP', 'FHP', 'BHP', 'RANK', 'RANKDIFF', 'SA', 'SRA', 'FHA', 'BALANCE']"
   ]
  },
  {
   "cell_type": "code",
   "execution_count": 4,
   "id": "24af45dd",
   "metadata": {},
   "outputs": [],
   "source": [
    "from sklearn.model_selection import train_test_split\n",
    "from sklearn import metrics"
   ]
  },
  {
   "cell_type": "code",
   "execution_count": 5,
   "id": "353b390d",
   "metadata": {},
   "outputs": [],
   "source": [
    "X_train, X_test, y_train, y_test = train_test_split(data.drop(columns=['WON']), data.WON, train_size=0.8)"
   ]
  },
  {
   "cell_type": "code",
   "execution_count": 6,
   "id": "9a6f63f9",
   "metadata": {},
   "outputs": [],
   "source": [
    "from sklearn.neural_network import MLPClassifier"
   ]
  },
  {
   "cell_type": "code",
   "execution_count": 7,
   "id": "ba881ed3",
   "metadata": {},
   "outputs": [],
   "source": [
    "def accuracy(confusion_matrix):\n",
    "    diagonal_sum = confusion_matrix.trace()\n",
    "    sum_of_all_elements = confusion_matrix.sum()\n",
    "    return diagonal_sum / sum_of_all_elements\n",
    "\n",
    "#Initializing the MLPClassifier\n",
    "classifier = MLPClassifier(hidden_layer_sizes=(150,100,50), max_iter=300,activation = 'relu',solver='adam',random_state=1)\n",
    "classifier.fit(X_train, y_train)\n",
    "y_pred = classifier.predict(X_test)"
   ]
  },
  {
   "cell_type": "code",
   "execution_count": 15,
   "id": "6dd628c8",
   "metadata": {},
   "outputs": [
    {
     "name": "stdout",
     "output_type": "stream",
     "text": [
      "Accuracy of MLPClassifier :  0.6388888888888888\n"
     ]
    }
   ],
   "source": [
    "from sklearn.metrics import confusion_matrix, classification_report, accuracy_score\n",
    "#Comparing the predictions against the actual observations in y_val\n",
    "cm = confusion_matrix(y_test, y_pred)\n",
    "\n",
    "#Printing the accuracy\n",
    "print(\"Accuracy of MLPClassifier : \"'', accuracy(cm))"
   ]
  },
  {
   "cell_type": "code",
   "execution_count": 17,
   "id": "366f0419",
   "metadata": {},
   "outputs": [
    {
     "name": "stdout",
     "output_type": "stream",
     "text": [
      "              precision    recall  f1-score   support\n",
      "\n",
      "        -1.0       0.49      0.72      0.58        25\n",
      "         1.0       0.80      0.60      0.68        47\n",
      "\n",
      "    accuracy                           0.64        72\n",
      "   macro avg       0.64      0.66      0.63        72\n",
      "weighted avg       0.69      0.64      0.65        72\n",
      "\n"
     ]
    }
   ],
   "source": [
    "print(classification_report(y_pred,y_test))"
   ]
  },
  {
   "cell_type": "code",
   "execution_count": 18,
   "id": "bf710b8e",
   "metadata": {},
   "outputs": [
    {
     "data": {
      "text/plain": [
       "{'activation': 'relu',\n",
       " 'alpha': 0.0001,\n",
       " 'batch_size': 'auto',\n",
       " 'beta_1': 0.9,\n",
       " 'beta_2': 0.999,\n",
       " 'early_stopping': False,\n",
       " 'epsilon': 1e-08,\n",
       " 'hidden_layer_sizes': (150, 100, 50),\n",
       " 'learning_rate': 'constant',\n",
       " 'learning_rate_init': 0.001,\n",
       " 'max_fun': 15000,\n",
       " 'max_iter': 300,\n",
       " 'momentum': 0.9,\n",
       " 'n_iter_no_change': 10,\n",
       " 'nesterovs_momentum': True,\n",
       " 'power_t': 0.5,\n",
       " 'random_state': 1,\n",
       " 'shuffle': True,\n",
       " 'solver': 'adam',\n",
       " 'tol': 0.0001,\n",
       " 'validation_fraction': 0.1,\n",
       " 'verbose': False,\n",
       " 'warm_start': False}"
      ]
     },
     "execution_count": 18,
     "metadata": {},
     "output_type": "execute_result"
    }
   ],
   "source": [
    "classifier.get_params()"
   ]
  },
  {
   "cell_type": "code",
   "execution_count": 19,
   "id": "703c43f8",
   "metadata": {},
   "outputs": [],
   "source": [
    "from sklearn.model_selection import RepeatedStratifiedKFold\n",
    "cv = RepeatedStratifiedKFold(n_splits=10, n_repeats=3, random_state=1)"
   ]
  },
  {
   "cell_type": "code",
   "execution_count": 95,
   "id": "cbeba0be",
   "metadata": {},
   "outputs": [],
   "source": [
    "from sklearn.model_selection import GridSearchCV\n",
    "# Create the parameter grid based on the results of random search \n",
    "param_grid = {\n",
    "    'hidden_layer_sizes':[10,50,100,500,1000],\n",
    "    'solver':['lbfgs'],\n",
    "    'activation':['relu'],\n",
    "    'learning_rate': ['constant', 'invscaling', 'adaptive'],\n",
    "    'max_iter': [300]\n",
    "}\n",
    "# Create a based model\n",
    "model = MLPClassifier()\n",
    "# Instantiate the grid search model\n",
    "grid_search = GridSearchCV(estimator = model, param_grid = param_grid, \n",
    "                          cv = cv, n_jobs = -1, verbose = 2)"
   ]
  },
  {
   "cell_type": "code",
   "execution_count": 35,
   "id": "8cf3993e",
   "metadata": {},
   "outputs": [
    {
     "name": "stdout",
     "output_type": "stream",
     "text": [
      "Fitting 30 folds for each of 18 candidates, totalling 540 fits\n",
      "Best: 0.702884 using {'activation': 'relu', 'hidden_layer_sizes': 10, 'learning_rate': 'adaptive', 'solver': 'lbfgs'}\n",
      "0.654392 (0.094604) with: {'activation': 'relu', 'hidden_layer_sizes': 5, 'learning_rate': 'constant', 'solver': 'lbfgs'}\n",
      "0.627275 (0.101740) with: {'activation': 'relu', 'hidden_layer_sizes': 5, 'learning_rate': 'invscaling', 'solver': 'lbfgs'}\n",
      "0.644153 (0.086008) with: {'activation': 'relu', 'hidden_layer_sizes': 5, 'learning_rate': 'adaptive', 'solver': 'lbfgs'}\n",
      "0.663810 (0.078857) with: {'activation': 'relu', 'hidden_layer_sizes': 10, 'learning_rate': 'constant', 'solver': 'lbfgs'}\n",
      "0.679630 (0.066927) with: {'activation': 'relu', 'hidden_layer_sizes': 10, 'learning_rate': 'invscaling', 'solver': 'lbfgs'}\n",
      "0.702884 (0.059448) with: {'activation': 'relu', 'hidden_layer_sizes': 10, 'learning_rate': 'adaptive', 'solver': 'lbfgs'}\n",
      "0.688042 (0.063409) with: {'activation': 'relu', 'hidden_layer_sizes': 50, 'learning_rate': 'constant', 'solver': 'lbfgs'}\n",
      "0.675820 (0.063182) with: {'activation': 'relu', 'hidden_layer_sizes': 50, 'learning_rate': 'invscaling', 'solver': 'lbfgs'}\n",
      "0.672196 (0.067513) with: {'activation': 'relu', 'hidden_layer_sizes': 50, 'learning_rate': 'adaptive', 'solver': 'lbfgs'}\n",
      "0.697249 (0.063003) with: {'activation': 'relu', 'hidden_layer_sizes': 100, 'learning_rate': 'constant', 'solver': 'lbfgs'}\n",
      "0.681429 (0.062353) with: {'activation': 'relu', 'hidden_layer_sizes': 100, 'learning_rate': 'invscaling', 'solver': 'lbfgs'}\n",
      "0.678704 (0.067920) with: {'activation': 'relu', 'hidden_layer_sizes': 100, 'learning_rate': 'adaptive', 'solver': 'lbfgs'}\n",
      "0.687037 (0.060453) with: {'activation': 'relu', 'hidden_layer_sizes': 500, 'learning_rate': 'constant', 'solver': 'lbfgs'}\n",
      "0.686164 (0.049379) with: {'activation': 'relu', 'hidden_layer_sizes': 500, 'learning_rate': 'invscaling', 'solver': 'lbfgs'}\n",
      "0.685344 (0.059769) with: {'activation': 'relu', 'hidden_layer_sizes': 500, 'learning_rate': 'adaptive', 'solver': 'lbfgs'}\n",
      "0.692698 (0.059953) with: {'activation': 'relu', 'hidden_layer_sizes': 1000, 'learning_rate': 'constant', 'solver': 'lbfgs'}\n",
      "0.687222 (0.068432) with: {'activation': 'relu', 'hidden_layer_sizes': 1000, 'learning_rate': 'invscaling', 'solver': 'lbfgs'}\n",
      "0.689947 (0.055222) with: {'activation': 'relu', 'hidden_layer_sizes': 1000, 'learning_rate': 'adaptive', 'solver': 'lbfgs'}\n"
     ]
    },
    {
     "name": "stderr",
     "output_type": "stream",
     "text": [
      "/Users/sophiechiang/opt/anaconda3/lib/python3.8/site-packages/sklearn/neural_network/_multilayer_perceptron.py:500: ConvergenceWarning: lbfgs failed to converge (status=1):\n",
      "STOP: TOTAL NO. of ITERATIONS REACHED LIMIT.\n",
      "\n",
      "Increase the number of iterations (max_iter) or scale the data as shown in:\n",
      "    https://scikit-learn.org/stable/modules/preprocessing.html\n",
      "  self.n_iter_ = _check_optimize_result(\"lbfgs\", opt_res, self.max_iter)\n"
     ]
    }
   ],
   "source": [
    "grid_result = grid_search.fit(data[columns], data.WON)\n",
    "# summarize results\n",
    "print(\"Best: %f using %s\" % (grid_result.best_score_, grid_result.best_params_))\n",
    "means = grid_result.cv_results_['mean_test_score']\n",
    "stds = grid_result.cv_results_['std_test_score']\n",
    "params = grid_result.cv_results_['params']\n",
    "for mean, stdev, param in zip(means, stds, params):\n",
    "    print(\"%f (%f) with: %r\" % (mean, stdev, param))"
   ]
  },
  {
   "cell_type": "code",
   "execution_count": 96,
   "id": "eb0efa6d",
   "metadata": {},
   "outputs": [
    {
     "name": "stdout",
     "output_type": "stream",
     "text": [
      "Fitting 30 folds for each of 15 candidates, totalling 450 fits\n",
      "Best: 0.703704 using {'activation': 'relu', 'hidden_layer_sizes': 100, 'learning_rate': 'invscaling', 'max_iter': 300, 'solver': 'lbfgs'}\n",
      "0.685238 (0.062061) with: {'activation': 'relu', 'hidden_layer_sizes': 10, 'learning_rate': 'constant', 'max_iter': 300, 'solver': 'lbfgs'}\n",
      "0.676825 (0.065268) with: {'activation': 'relu', 'hidden_layer_sizes': 10, 'learning_rate': 'invscaling', 'max_iter': 300, 'solver': 'lbfgs'}\n",
      "0.696217 (0.068654) with: {'activation': 'relu', 'hidden_layer_sizes': 10, 'learning_rate': 'adaptive', 'max_iter': 300, 'solver': 'lbfgs'}\n",
      "0.686984 (0.068274) with: {'activation': 'relu', 'hidden_layer_sizes': 50, 'learning_rate': 'constant', 'max_iter': 300, 'solver': 'lbfgs'}\n",
      "0.692540 (0.062831) with: {'activation': 'relu', 'hidden_layer_sizes': 50, 'learning_rate': 'invscaling', 'max_iter': 300, 'solver': 'lbfgs'}\n",
      "0.688836 (0.071837) with: {'activation': 'relu', 'hidden_layer_sizes': 50, 'learning_rate': 'adaptive', 'max_iter': 300, 'solver': 'lbfgs'}\n",
      "0.687857 (0.064337) with: {'activation': 'relu', 'hidden_layer_sizes': 100, 'learning_rate': 'constant', 'max_iter': 300, 'solver': 'lbfgs'}\n",
      "0.703704 (0.070499) with: {'activation': 'relu', 'hidden_layer_sizes': 100, 'learning_rate': 'invscaling', 'max_iter': 300, 'solver': 'lbfgs'}\n",
      "0.695370 (0.061109) with: {'activation': 'relu', 'hidden_layer_sizes': 100, 'learning_rate': 'adaptive', 'max_iter': 300, 'solver': 'lbfgs'}\n",
      "0.684180 (0.064352) with: {'activation': 'relu', 'hidden_layer_sizes': 500, 'learning_rate': 'constant', 'max_iter': 300, 'solver': 'lbfgs'}\n",
      "0.686958 (0.063709) with: {'activation': 'relu', 'hidden_layer_sizes': 500, 'learning_rate': 'invscaling', 'max_iter': 300, 'solver': 'lbfgs'}\n",
      "0.695370 (0.065666) with: {'activation': 'relu', 'hidden_layer_sizes': 500, 'learning_rate': 'adaptive', 'max_iter': 300, 'solver': 'lbfgs'}\n",
      "0.694497 (0.047763) with: {'activation': 'relu', 'hidden_layer_sizes': 1000, 'learning_rate': 'constant', 'max_iter': 300, 'solver': 'lbfgs'}\n",
      "0.697249 (0.057794) with: {'activation': 'relu', 'hidden_layer_sizes': 1000, 'learning_rate': 'invscaling', 'max_iter': 300, 'solver': 'lbfgs'}\n",
      "0.690714 (0.062581) with: {'activation': 'relu', 'hidden_layer_sizes': 1000, 'learning_rate': 'adaptive', 'max_iter': 300, 'solver': 'lbfgs'}\n"
     ]
    },
    {
     "name": "stderr",
     "output_type": "stream",
     "text": [
      "/Users/sophiechiang/opt/anaconda3/lib/python3.8/site-packages/sklearn/neural_network/_multilayer_perceptron.py:500: ConvergenceWarning: lbfgs failed to converge (status=1):\n",
      "STOP: TOTAL NO. of ITERATIONS REACHED LIMIT.\n",
      "\n",
      "Increase the number of iterations (max_iter) or scale the data as shown in:\n",
      "    https://scikit-learn.org/stable/modules/preprocessing.html\n",
      "  self.n_iter_ = _check_optimize_result(\"lbfgs\", opt_res, self.max_iter)\n"
     ]
    }
   ],
   "source": [
    "grid_result = grid_search.fit(data[columns], data.WON)\n",
    "# summarize results\n",
    "print(\"Best: %f using %s\" % (grid_result.best_score_, grid_result.best_params_))\n",
    "means = grid_result.cv_results_['mean_test_score']\n",
    "stds = grid_result.cv_results_['std_test_score']\n",
    "params = grid_result.cv_results_['params']\n",
    "for mean, stdev, param in zip(means, stds, params):\n",
    "    print(\"%f (%f) with: %r\" % (mean, stdev, param))"
   ]
  },
  {
   "cell_type": "code",
   "execution_count": 99,
   "id": "98d60c09",
   "metadata": {},
   "outputs": [
    {
     "data": {
      "image/png": "[encoded data removed]",
      "text/plain": [
       "<Figure size 432x288 with 1 Axes>"
      ]
     },
     "metadata": {
      "needs_background": "light"
     },
     "output_type": "display_data"
    }
   ],
   "source": [
    "import scikitplot as skplt\n",
    "skplt.estimators.plot_learning_curve(grid_result.best_estimator_, data[columns], data.WON,\n",
    "                                     cv=cv, shuffle=True, scoring=\"accuracy\",\n",
    "                                     n_jobs=-1, figsize=(6,4), title_fontsize=\"large\", text_fontsize=\"large\",\n",
    "                                     title=\"Multi-Layer Perceptron Learning Curve\");\n",
    "plt.savefig('MLP LC', dpi=300)"
   ]
  },
  {
   "cell_type": "code",
   "execution_count": 100,
   "id": "fbf65764",
   "metadata": {},
   "outputs": [
    {
     "data": {
      "text/plain": [
       "{'activation': 'relu',\n",
       " 'hidden_layer_sizes': 100,\n",
       " 'learning_rate': 'invscaling',\n",
       " 'max_iter': 300,\n",
       " 'solver': 'lbfgs'}"
      ]
     },
     "execution_count": 100,
     "metadata": {},
     "output_type": "execute_result"
    }
   ],
   "source": [
    "grid_result.best_params_"
   ]
  },
  {
   "cell_type": "code",
   "execution_count": 103,
   "id": "66d2bff8",
   "metadata": {},
   "outputs": [
    {
     "name": "stderr",
     "output_type": "stream",
     "text": [
      "/Users/sophiechiang/opt/anaconda3/lib/python3.8/site-packages/sklearn/neural_network/_multilayer_perceptron.py:500: ConvergenceWarning: lbfgs failed to converge (status=1):\n",
      "STOP: TOTAL NO. of ITERATIONS REACHED LIMIT.\n",
      "\n",
      "Increase the number of iterations (max_iter) or scale the data as shown in:\n",
      "    https://scikit-learn.org/stable/modules/preprocessing.html\n",
      "  self.n_iter_ = _check_optimize_result(\"lbfgs\", opt_res, self.max_iter)\n"
     ]
    }
   ],
   "source": [
    "grid_result.best_estimator_.fit(X_train, y_train)\n",
    "y_pred = classifier.predict(X_test)\n",
    "cm = confusion_matrix(y_test, y_pred)"
   ]
  },
  {
   "cell_type": "code",
   "execution_count": null,
   "id": "7553b90f",
   "metadata": {},
   "outputs": [],
   "source": []
  }
 ],
 "metadata": {
  "kernelspec": {
   "display_name": "Python 3",
   "language": "python",
   "name": "python3"
  },
  "language_info": {
   "codemirror_mode": {
    "name": "ipython",
    "version": 3
   },
   "file_extension": ".py",
   "mimetype": "text/x-python",
   "name": "python",
   "nbconvert_exporter": "python",
   "pygments_lexer": "ipython3",
   "version": "3.8.8"
  }
 },
 "nbformat": 4,
 "nbformat_minor": 5
}
